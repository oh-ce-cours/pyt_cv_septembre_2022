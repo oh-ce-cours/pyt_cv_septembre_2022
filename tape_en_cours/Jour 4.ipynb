{
 "cells": [
  {
   "cell_type": "code",
   "execution_count": 13,
   "id": "2c25c1fe",
   "metadata": {},
   "outputs": [
    {
     "name": "stdout",
     "output_type": "stream",
     "text": [
      "Joel\n"
     ]
    }
   ],
   "source": [
    "# JSON\n",
    "import json\n",
    "\n",
    "ma_structure = {\n",
    "    \"nom\": \"Python objet\",\n",
    "    \"stagiaires\" : [\n",
    "        \"Joel\", \"Blanche\"\n",
    "    ], \n",
    "    \"formateur\": \"Matthieu\"\n",
    "}\n",
    "\n",
    "\n",
    "json.dump(ma_structure, open(\"donnees.json\", \"w\"), indent=2)\n",
    "json_depuis_le_fichier = json.load(open(\"donnees.json\", \"r\"))\n",
    "print(json_depuis_le_fichier[\"stagiaires\"][0])"
   ]
  },
  {
   "cell_type": "code",
   "execution_count": 15,
   "id": "158c3edf",
   "metadata": {},
   "outputs": [
    {
     "name": "stdout",
     "output_type": "stream",
     "text": [
      "Python objet\n"
     ]
    }
   ],
   "source": [
    "mon_objet_en_chaine = json.dumps(ma_structure)\n",
    "json_depuis_la_chaine = json.loads(mon_objet_en_chaine)\n",
    "print(json_depuis_la_chaine[\"nom\"])"
   ]
  },
  {
   "cell_type": "markdown",
   "id": "cadd85a4",
   "metadata": {},
   "source": [
    "# CSV"
   ]
  },
  {
   "cell_type": "code",
   "execution_count": 21,
   "id": "6f1cbb16",
   "metadata": {},
   "outputs": [
    {
     "name": "stdout",
     "output_type": "stream",
     "text": [
      "Muminov-Ikrom\n",
      "vercel\n",
      "salinga\n",
      "cloobTech\n",
      "thekopufa\n",
      "mojahige\n",
      "mnmbhf3289\n",
      "wilhelm-murdoch\n",
      "dependabot\n",
      "bodycohl\n",
      "yinuo01\n",
      "rko281\n",
      "release-please\n",
      "yakir12\n",
      "LauShingHung\n",
      "Kishoiyan-Charity1\n",
      "emmahsax\n",
      "xaviliz\n",
      "sonarcloud\n",
      "ceriy1st\n",
      "mnmbhf3289\n",
      "kyma-bot\n",
      "inmadv02\n",
      "LarsDwars\n",
      "MaryShtayn\n",
      "yeonbok\n",
      "KrasimirDmtr\n",
      "tahaaa12\n",
      "xiuxi\n",
      "yakir12\n",
      "github-actions\n",
      "github-actions\n",
      "JakeBenson\n",
      "github-actions\n",
      "rbngzlv\n",
      "esalesg\n",
      "dependabot\n",
      "OxiCuza\n",
      "yeonbok\n",
      "github-actions\n",
      "brollb\n",
      "im-renpei\n",
      "thekonon\n",
      "sun9zzang\n",
      "fleef-me\n",
      "Lawsenge\n",
      "dummdidumm\n",
      "DenkingOfficial\n",
      "blessing-law\n",
      "fshowalter\n",
      "dschmitz89\n",
      "orangemn6\n",
      "rohithsprabhu\n",
      "Rs5611\n",
      "limjae\n",
      "kknitteltest\n",
      "rdstl\n",
      "sambarba99\n",
      "dduta065\n",
      "indianatoms\n",
      "zicklag\n",
      "github-actions\n",
      "joshrdane\n",
      "Acatus-dev\n",
      "berrua\n",
      "andyMrtnzP\n",
      "openshift-ci\n",
      "harryEth\n",
      "kchxr1st\n",
      "remyd1\n",
      "dependabot\n",
      "delhage\n",
      "DoctorLi2042\n",
      "ph00lt0\n",
      "DeVriesMatt\n",
      "joivo\n",
      "t1dmlgus\n",
      "uftd456\n",
      "jessicajaniuk\n",
      "Jon83Carvalho\n",
      "BohdanBodakva\n",
      "dependabot\n",
      "marco76tv\n",
      "renovate\n",
      "stachada\n",
      "uftd111\n",
      "vuminhtoan2001\n",
      "wylu\n",
      "nikBaben\n",
      "Pat-Brennan\n"
     ]
    }
   ],
   "source": [
    "import csv\n",
    "\n",
    "with open('api1.csv', newline='') as csvfile:\n",
    "    csv_reader = csv.DictReader(csvfile, delimiter=',', quotechar='\"')\n",
    "    for row in csv_reader:\n",
    "        print(row[\"username\"])"
   ]
  },
  {
   "cell_type": "code",
   "execution_count": null,
   "id": "bb86e8e4",
   "metadata": {},
   "outputs": [],
   "source": []
  }
 ],
 "metadata": {
  "kernelspec": {
   "display_name": "Python 3 (ipykernel)",
   "language": "python",
   "name": "python3"
  },
  "language_info": {
   "codemirror_mode": {
    "name": "ipython",
    "version": 3
   },
   "file_extension": ".py",
   "mimetype": "text/x-python",
   "name": "python",
   "nbconvert_exporter": "python",
   "pygments_lexer": "ipython3",
   "version": "3.9.9"
  }
 },
 "nbformat": 4,
 "nbformat_minor": 5
}
