{
 "cells": [
  {
   "cell_type": "code",
   "execution_count": 4,
   "id": "9e9865f4",
   "metadata": {},
   "outputs": [],
   "source": [
    "# JSON\n",
    "\n",
    "ma_structure = {\n",
    "    \"nom\": \"Python objet\",\n",
    "    \"stagiaires\" : [\n",
    "        \"Joel\", \"Blanche\"\n",
    "    ], \n",
    "    \"formateur\": \"Matthieu\"\n",
    "}\n",
    "\n",
    "import json\n",
    "\n",
    "mon_objet_en_chaine = json.dumps(ma_structure)\n",
    "json.dump?"
   ]
  },
  {
   "cell_type": "code",
   "execution_count": null,
   "id": "ab48caf2",
   "metadata": {},
   "outputs": [],
   "source": []
  }
 ],
 "metadata": {
  "kernelspec": {
   "display_name": "Python 3 (ipykernel)",
   "language": "python",
   "name": "python3"
  },
  "language_info": {
   "codemirror_mode": {
    "name": "ipython",
    "version": 3
   },
   "file_extension": ".py",
   "mimetype": "text/x-python",
   "name": "python",
   "nbconvert_exporter": "python",
   "pygments_lexer": "ipython3",
   "version": "3.9.9"
  }
 },
 "nbformat": 4,
 "nbformat_minor": 5
}
