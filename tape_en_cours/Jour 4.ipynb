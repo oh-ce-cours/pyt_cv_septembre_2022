{
 "cells": [
  {
   "cell_type": "code",
   "execution_count": 13,
   "id": "a4433eae",
   "metadata": {},
   "outputs": [
    {
     "name": "stdout",
     "output_type": "stream",
     "text": [
      "Joel\n"
     ]
    }
   ],
   "source": [
    "# JSON\n",
    "import json\n",
    "\n",
    "ma_structure = {\n",
    "    \"nom\": \"Python objet\",\n",
    "    \"stagiaires\" : [\n",
    "        \"Joel\", \"Blanche\"\n",
    "    ], \n",
    "    \"formateur\": \"Matthieu\"\n",
    "}\n",
    "\n",
    "\n",
    "json.dump(ma_structure, open(\"donnees.json\", \"w\"), indent=2)\n",
    "json_depuis_le_fichier = json.load(open(\"donnees.json\", \"r\"))\n",
    "print(json_depuis_le_fichier[\"stagiaires\"][0])"
   ]
  },
  {
   "cell_type": "code",
   "execution_count": 15,
   "id": "0312401d",
   "metadata": {},
   "outputs": [
    {
     "name": "stdout",
     "output_type": "stream",
     "text": [
      "Python objet\n"
     ]
    }
   ],
   "source": [
    "mon_objet_en_chaine = json.dumps(ma_structure)\n",
    "json_depuis_la_chaine = json.loads(mon_objet_en_chaine)\n",
    "print(json_depuis_la_chaine[\"nom\"])"
   ]
  },
  {
   "cell_type": "markdown",
   "id": "264b23e0",
   "metadata": {},
   "source": [
    "# CSV"
   ]
  },
  {
   "cell_type": "code",
   "execution_count": 21,
   "id": "557aa772",
   "metadata": {},
   "outputs": [
    {
     "name": "stdout",
     "output_type": "stream",
     "text": [
      "Muminov-Ikrom\n",
      "vercel\n",
      "salinga\n",
      "cloobTech\n",
      "thekopufa\n",
      "mojahige\n",
      "mnmbhf3289\n",
      "wilhelm-murdoch\n",
      "dependabot\n",
      "bodycohl\n",
      "yinuo01\n",
      "rko281\n",
      "release-please\n",
      "yakir12\n",
      "LauShingHung\n",
      "Kishoiyan-Charity1\n",
      "emmahsax\n",
      "xaviliz\n",
      "sonarcloud\n",
      "ceriy1st\n",
      "mnmbhf3289\n",
      "kyma-bot\n",
      "inmadv02\n",
      "LarsDwars\n",
      "MaryShtayn\n",
      "yeonbok\n",
      "KrasimirDmtr\n",
      "tahaaa12\n",
      "xiuxi\n",
      "yakir12\n",
      "github-actions\n",
      "github-actions\n",
      "JakeBenson\n",
      "github-actions\n",
      "rbngzlv\n",
      "esalesg\n",
      "dependabot\n",
      "OxiCuza\n",
      "yeonbok\n",
      "github-actions\n",
      "brollb\n",
      "im-renpei\n",
      "thekonon\n",
      "sun9zzang\n",
      "fleef-me\n",
      "Lawsenge\n",
      "dummdidumm\n",
      "DenkingOfficial\n",
      "blessing-law\n",
      "fshowalter\n",
      "dschmitz89\n",
      "orangemn6\n",
      "rohithsprabhu\n",
      "Rs5611\n",
      "limjae\n",
      "kknitteltest\n",
      "rdstl\n",
      "sambarba99\n",
      "dduta065\n",
      "indianatoms\n",
      "zicklag\n",
      "github-actions\n",
      "joshrdane\n",
      "Acatus-dev\n",
      "berrua\n",
      "andyMrtnzP\n",
      "openshift-ci\n",
      "harryEth\n",
      "kchxr1st\n",
      "remyd1\n",
      "dependabot\n",
      "delhage\n",
      "DoctorLi2042\n",
      "ph00lt0\n",
      "DeVriesMatt\n",
      "joivo\n",
      "t1dmlgus\n",
      "uftd456\n",
      "jessicajaniuk\n",
      "Jon83Carvalho\n",
      "BohdanBodakva\n",
      "dependabot\n",
      "marco76tv\n",
      "renovate\n",
      "stachada\n",
      "uftd111\n",
      "vuminhtoan2001\n",
      "wylu\n",
      "nikBaben\n",
      "Pat-Brennan\n"
     ]
    }
   ],
   "source": [
    "import csv\n",
    "\n",
    "with open('api1.csv', newline='') as csvfile:\n",
    "    csv_reader = csv.DictReader(csvfile, delimiter=',', quotechar='\"')\n",
    "    for row in csv_reader:\n",
    "        print(row[\"username\"])"
   ]
  },
  {
   "cell_type": "code",
   "execution_count": 34,
   "id": "6a3e2598",
   "metadata": {},
   "outputs": [],
   "source": [
    "import pandas as pd\n",
    "df = pd.read_csv(\"./data_final.csv\", sep=\"\\t\", decimal=\",\")\n"
   ]
  },
  {
   "cell_type": "code",
   "execution_count": 39,
   "id": "0a79fc48",
   "metadata": {},
   "outputs": [
    {
     "data": {
      "text/html": [
       "<div>\n",
       "<style scoped>\n",
       "    .dataframe tbody tr th:only-of-type {\n",
       "        vertical-align: middle;\n",
       "    }\n",
       "\n",
       "    .dataframe tbody tr th {\n",
       "        vertical-align: top;\n",
       "    }\n",
       "\n",
       "    .dataframe thead th {\n",
       "        text-align: right;\n",
       "    }\n",
       "</style>\n",
       "<table border=\"1\" class=\"dataframe\">\n",
       "  <thead>\n",
       "    <tr style=\"text-align: right;\">\n",
       "      <th></th>\n",
       "      <th>x</th>\n",
       "      <th>y</th>\n",
       "    </tr>\n",
       "  </thead>\n",
       "  <tbody>\n",
       "    <tr>\n",
       "      <th>count</th>\n",
       "      <td>763.000000</td>\n",
       "      <td>763.000000</td>\n",
       "    </tr>\n",
       "    <tr>\n",
       "      <th>mean</th>\n",
       "      <td>0.495023</td>\n",
       "      <td>0.505776</td>\n",
       "    </tr>\n",
       "    <tr>\n",
       "      <th>std</th>\n",
       "      <td>0.292947</td>\n",
       "      <td>0.289172</td>\n",
       "    </tr>\n",
       "    <tr>\n",
       "      <th>min</th>\n",
       "      <td>0.001140</td>\n",
       "      <td>0.000567</td>\n",
       "    </tr>\n",
       "    <tr>\n",
       "      <th>25%</th>\n",
       "      <td>0.226306</td>\n",
       "      <td>0.265336</td>\n",
       "    </tr>\n",
       "    <tr>\n",
       "      <th>50%</th>\n",
       "      <td>0.493301</td>\n",
       "      <td>0.510575</td>\n",
       "    </tr>\n",
       "    <tr>\n",
       "      <th>75%</th>\n",
       "      <td>0.739491</td>\n",
       "      <td>0.753354</td>\n",
       "    </tr>\n",
       "    <tr>\n",
       "      <th>max</th>\n",
       "      <td>0.996611</td>\n",
       "      <td>0.999270</td>\n",
       "    </tr>\n",
       "  </tbody>\n",
       "</table>\n",
       "</div>"
      ],
      "text/plain": [
       "                x           y\n",
       "count  763.000000  763.000000\n",
       "mean     0.495023    0.505776\n",
       "std      0.292947    0.289172\n",
       "min      0.001140    0.000567\n",
       "25%      0.226306    0.265336\n",
       "50%      0.493301    0.510575\n",
       "75%      0.739491    0.753354\n",
       "max      0.996611    0.999270"
      ]
     },
     "execution_count": 39,
     "metadata": {},
     "output_type": "execute_result"
    }
   ],
   "source": [
    "df.describe()"
   ]
  },
  {
   "cell_type": "code",
   "execution_count": null,
   "id": "1b1a777e",
   "metadata": {},
   "outputs": [],
   "source": []
  }
 ],
 "metadata": {
  "kernelspec": {
   "display_name": "Python 3 (ipykernel)",
   "language": "python",
   "name": "python3"
  },
  "language_info": {
   "codemirror_mode": {
    "name": "ipython",
    "version": 3
   },
   "file_extension": ".py",
   "mimetype": "text/x-python",
   "name": "python",
   "nbconvert_exporter": "python",
   "pygments_lexer": "ipython3",
   "version": "3.9.9"
  }
 },
 "nbformat": 4,
 "nbformat_minor": 5
}
