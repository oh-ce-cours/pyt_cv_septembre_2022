{
 "cells": [
  {
   "cell_type": "code",
   "execution_count": 13,
   "id": "b063c746",
   "metadata": {},
   "outputs": [
    {
     "name": "stdout",
     "output_type": "stream",
     "text": [
      "Joel\n"
     ]
    }
   ],
   "source": [
    "# JSON\n",
    "import json\n",
    "\n",
    "ma_structure = {\n",
    "    \"nom\": \"Python objet\",\n",
    "    \"stagiaires\" : [\n",
    "        \"Joel\", \"Blanche\"\n",
    "    ], \n",
    "    \"formateur\": \"Matthieu\"\n",
    "}\n",
    "\n",
    "\n",
    "json.dump(ma_structure, open(\"donnees.json\", \"w\"), indent=2)\n",
    "json_depuis_le_fichier = json.load(open(\"donnees.json\", \"r\"))\n",
    "print(json_depuis_le_fichier[\"stagiaires\"][0])"
   ]
  },
  {
   "cell_type": "code",
   "execution_count": 15,
   "id": "e9614f08",
   "metadata": {},
   "outputs": [
    {
     "name": "stdout",
     "output_type": "stream",
     "text": [
      "Python objet\n"
     ]
    }
   ],
   "source": [
    "mon_objet_en_chaine = json.dumps(ma_structure)\n",
    "json_depuis_la_chaine = json.loads(mon_objet_en_chaine)\n",
    "print(json_depuis_la_chaine[\"nom\"])"
   ]
  },
  {
   "cell_type": "markdown",
   "id": "be6db5c6",
   "metadata": {},
   "source": [
    "# CSV"
   ]
  },
  {
   "cell_type": "code",
   "execution_count": 19,
   "id": "171dee96",
   "metadata": {},
   "outputs": [
    {
     "name": "stdout",
     "output_type": "stream",
     "text": [
      "['Muminov-Ikrom', 'laravel/breeze']\n",
      "['vercel', 'lensterxyz/lenster']\n",
      "['salinga', 'salinga/demo-jenkins']\n",
      "['cloobTech', 'cloobTech/alx-low_level_programming']\n",
      "['thekopufa', 'thekopufa/Ea0jZkeD9U']\n",
      "['mojahige', 'mojahige/elm-spa-test']\n",
      "['mnmbhf3289', 'mnmbhf3289/ntdtv']\n",
      "['wilhelm-murdoch', 'wilhelm-murdoch/dq']\n",
      "['dependabot', 'carstenartur/Rocket.Chat.ReactNative']\n",
      "['bodycohl', 'bodycohl/legs-fit']\n",
      "['yinuo01', 'adazzle/react-data-grid']\n",
      "['rko281', 'rko281/Porpoise']\n",
      "['release-please', 'googleapis/java-secretmanager']\n",
      "['yakir12', 'yakir12/SkyRoomsGtk']\n",
      "['LauShingHung', 'ourCodeTherapy/likewise-app-react-firebase']\n",
      "['Kishoiyan-Charity1', 'akirachix/Red-wings']\n",
      "['emmahsax', 'dispatchitinc/devise_revocable_session']\n",
      "['xaviliz', 'Alia-morsi/leakage_removal']\n",
      "['sonarcloud', 'DSM-DECONHUB/deconhub-server']\n",
      "['ceriy1st', 'ceriy1st/ceriy1st1V17078']\n",
      "['mnmbhf3289', 'mnmbhf3289/djy']\n",
      "['kyma-bot', 'kyma-project/lifecycle-manager']\n",
      "['inmadv02', 'inmadv02/Netflix']\n",
      "['LarsDwars', 'legomannetje/Innovum-Git-Course']\n",
      "['MaryShtayn', 'MaryShtayn/goit-markup-hw-08']\n",
      "['yeonbok', 'openvinotoolkit/openvino']\n",
      "['KrasimirDmtr', 'KrasimirDmtr/Programming-Fundamentals-JS-Sept']\n",
      "['tahaaa12', 'tahaaa12/ping']\n",
      "['xiuxi', 'xiuxi/java']\n",
      "['yakir12', 'yakir12/SkyRoomsGtk']\n",
      "['github-actions', 'RibonDAO/core-api']\n",
      "['github-actions', 'chekos/spotify-git-scraping']\n",
      "['JakeBenson', 'fihristorg/fihrist-mss']\n",
      "['github-actions', 'GabrielMullerDS/GabrielMullerDS']\n",
      "['rbngzlv', 'nov/rack-locale_memorable']\n",
      "['esalesg', 'esalesg/product-feed']\n",
      "['dependabot', 'ernieturner/DefinitelyTyped']\n",
      "['OxiCuza', 'OxiCuza/oxicuza.github.io']\n",
      "['yeonbok', 'openvinotoolkit/openvino']\n",
      "['github-actions', 'brocjad/pub_hofs']\n",
      "['brollb', 'webgme/webgme-taxonomy']\n",
      "['im-renpei', 'Ry0/ompl_python_tutorial']\n",
      "['thekonon', 'thekonon/NJLearner']\n",
      "['sun9zzang', 'sun9zzang/fastapi_prtc']\n",
      "['fleef-me', 'fleef-me/TgBackUP']\n",
      "['Lawsenge', 'Lawsenge/newProject']\n",
      "['dummdidumm', 'sveltejs/language-tools']\n",
      "['DenkingOfficial', 'yownas/seed_travel']\n",
      "['blessing-law', 'blessing-law/alx-low_level_programming']\n",
      "['fshowalter', 'fshowalter/franksbooklog.com']\n",
      "['dschmitz89', 'dschmitz89/scipy']\n",
      "['orangemn6', 'orangemn6/uptime-monitor']\n",
      "['rohithsprabhu', 'rohithsprabhu/hacktoberfest2021']\n",
      "['Rs5611', 'Rs5611/KYUSYU']\n",
      "['limjae', 'limjae/weatherAccuracy']\n",
      "['kknitteltest', 'kknitteltest/hardhat-smartcontract-lottery-fcc']\n",
      "['rdstl', 'rdstl/prueba']\n",
      "['sambarba99', 'sambarba99/spare-time-projects']\n",
      "['dduta065', 'dduta065/resume-site']\n",
      "['indianatoms', 'indianatoms/FL-PCAP-Analysis']\n",
      "['zicklag', 'fishfolks/punchy']\n",
      "['github-actions', 'Xeruloudon/Xeruloudon']\n",
      "['joshrdane', 'joshrdane/tere']\n",
      "['Acatus-dev', 'Unice-SIL/esup-sport']\n",
      "['berrua', 'alexandresanlim/Badges4-README.md-Profile']\n",
      "['andyMrtnzP', 'browserless/chrome']\n",
      "['openshift-ci', 'openshift/openshift-apiserver']\n",
      "['harryEth', 'magiclabs/example-ethers']\n",
      "['kchxr1st', 'kchxr1st/kchxr1st4565']\n",
      "['remyd1', 't1anz0ng/iftree']\n",
      "['dependabot', 'chimpaji/trpc-prisma-starter']\n",
      "['delhage', 'delhage/gcp-terraform']\n",
      "['DoctorLi2042', 'NEST-Protocol/NEST-PVM-Web-User-Interface']\n",
      "['ph00lt0', 'ph00lt0/blocklist']\n",
      "['DeVriesMatt', 'MagniViT/MagniViT']\n",
      "['joivo', 'convictional/trigger-workflow-and-wait']\n",
      "['t1dmlgus', 't1dmlgus/wanted-pre-onboarding-challenge-be-task-October']\n",
      "['uftd456', 'uftd456/hu24vr1z9y']\n",
      "['jessicajaniuk', 'angular/angular']\n",
      "['Jon83Carvalho', 'Jon83Carvalho/DataAndArt']\n",
      "['BohdanBodakva', 'BohdanBodakva/web-labs']\n",
      "['dependabot', 'binden-js/binden']\n",
      "['marco76tv', 'laraxot/module_theme']\n",
      "['renovate', 'entur/extime']\n",
      "['stachada', 'Developer-Y/cs-video-courses']\n",
      "['uftd111', 'uftd111/t2j4HuFmWq']\n",
      "['vuminhtoan2001', 'vuminhtoan2001/Hotel-Booking-App']\n",
      "['wylu', 'wylu/kubeans']\n",
      "['nikBaben', 'nikBaben/Game-school-project-']\n",
      "['Pat-Brennan', 'Pat-Brennan/Udemy-Python-Bootcamp']\n"
     ]
    }
   ],
   "source": [
    "import csv\n",
    "\n",
    "with open('api1.csv', newline='') as csvfile:\n",
    "    csv_reader = csv.reader(csvfile, delimiter=',', quotechar='\"')\n",
    "    for row in csv_reader:\n",
    "        print(row)"
   ]
  },
  {
   "cell_type": "code",
   "execution_count": null,
   "id": "05460fb7",
   "metadata": {},
   "outputs": [],
   "source": []
  }
 ],
 "metadata": {
  "kernelspec": {
   "display_name": "Python 3 (ipykernel)",
   "language": "python",
   "name": "python3"
  },
  "language_info": {
   "codemirror_mode": {
    "name": "ipython",
    "version": 3
   },
   "file_extension": ".py",
   "mimetype": "text/x-python",
   "name": "python",
   "nbconvert_exporter": "python",
   "pygments_lexer": "ipython3",
   "version": "3.9.9"
  }
 },
 "nbformat": 4,
 "nbformat_minor": 5
}
