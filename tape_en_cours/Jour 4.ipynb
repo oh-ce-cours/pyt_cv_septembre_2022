{
 "cells": [
  {
   "cell_type": "code",
   "execution_count": 7,
   "id": "e785e165",
   "metadata": {},
   "outputs": [],
   "source": [
    "# JSON\n",
    "import json\n",
    "\n",
    "ma_structure = {\n",
    "    \"nom\": \"Python objet\",\n",
    "    \"stagiaires\" : [\n",
    "        \"Joel\", \"Blanche\"\n",
    "    ], \n",
    "    \"formateur\": \"Matthieu\"\n",
    "}\n",
    "\n",
    "\n",
    "mon_objet_en_chaine = json.dumps(ma_structure)\n",
    "json.dump(ma_structure, open(\"donnees.json\", \"w\"), indent=2)"
   ]
  },
  {
   "cell_type": "code",
   "execution_count": 8,
   "id": "34c479ee",
   "metadata": {},
   "outputs": [],
   "source": [
    "json_depuis_le_fichier = json.load(open(\"donnees.json\", \"r\"))"
   ]
  },
  {
   "cell_type": "code",
   "execution_count": null,
   "id": "34768898",
   "metadata": {},
   "outputs": [],
   "source": []
  }
 ],
 "metadata": {
  "kernelspec": {
   "display_name": "Python 3 (ipykernel)",
   "language": "python",
   "name": "python3"
  },
  "language_info": {
   "codemirror_mode": {
    "name": "ipython",
    "version": 3
   },
   "file_extension": ".py",
   "mimetype": "text/x-python",
   "name": "python",
   "nbconvert_exporter": "python",
   "pygments_lexer": "ipython3",
   "version": "3.9.9"
  }
 },
 "nbformat": 4,
 "nbformat_minor": 5
}
