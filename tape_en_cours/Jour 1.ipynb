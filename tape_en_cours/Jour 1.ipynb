{
 "cells": [
  {
   "cell_type": "markdown",
   "id": "9469a270",
   "metadata": {},
   "source": [
    "# Jour 1\n",
    "\n",
    "## Matin \n",
    "\n",
    "* installation de python \n",
    "* historique "
   ]
  },
  {
   "cell_type": "markdown",
   "id": "8c0f1223",
   "metadata": {},
   "source": [
    "# Syntaxe de python "
   ]
  },
  {
   "cell_type": "markdown",
   "id": "19810dd1",
   "metadata": {},
   "source": [
    "## Nombres"
   ]
  },
  {
   "cell_type": "code",
   "execution_count": 29,
   "id": "0c1a160e",
   "metadata": {},
   "outputs": [
    {
     "data": {
      "text/plain": [
       "4.64664"
      ]
     },
     "execution_count": 29,
     "metadata": {},
     "output_type": "execute_result"
    }
   ],
   "source": [
    "mon_entier = 2**128 + 1  \n",
    "mon_flottant = 2.32332\n",
    "mon_complexe = complex(3, 2)\n",
    "\n",
    "mon_flottant + mon_flottant"
   ]
  },
  {
   "cell_type": "markdown",
   "id": "94a7f955",
   "metadata": {},
   "source": [
    "## Chaines de caractères"
   ]
  },
  {
   "cell_type": "code",
   "execution_count": 16,
   "id": "b898e826",
   "metadata": {},
   "outputs": [
    {
     "name": "stdout",
     "output_type": "stream",
     "text": [
      "Me voici ❤️\n"
     ]
    }
   ],
   "source": [
    "ma_chaine = \"Me voici ❤️\"\n",
    "print(ma_chaine)"
   ]
  },
  {
   "cell_type": "code",
   "execution_count": 17,
   "id": "5af6b455",
   "metadata": {},
   "outputs": [
    {
     "name": "stdout",
     "output_type": "stream",
     "text": [
      "Me voici ❤️\n"
     ]
    }
   ],
   "source": [
    "ma_chaine = 'Me voici ❤️'\n",
    "print(ma_chaine)"
   ]
  },
  {
   "cell_type": "code",
   "execution_count": 20,
   "id": "689c6c63",
   "metadata": {},
   "outputs": [
    {
     "name": "stdout",
     "output_type": "stream",
     "text": [
      "Il dit \"je m'apelle Matthieu\"\n"
     ]
    }
   ],
   "source": [
    "ma_chaine = 'Il dit \"je m\\'apelle Matthieu\"'\n",
    "ma_chaine = \"Il dit \\\"je m'apelle Matthieu\\\"\"\n",
    "\n",
    "print(ma_chaine)"
   ]
  },
  {
   "cell_type": "code",
   "execution_count": 46,
   "id": "92a65dac",
   "metadata": {},
   "outputs": [],
   "source": [
    "mon_chemin = r\"C:\\Users\\Documents\" # raw string (les caractères ne sont pas échapés)"
   ]
  },
  {
   "cell_type": "code",
   "execution_count": 30,
   "id": "d6f06dc3",
   "metadata": {},
   "outputs": [
    {
     "data": {
      "text/plain": [
       "'Salut, toi'"
      ]
     },
     "execution_count": 30,
     "metadata": {},
     "output_type": "execute_result"
    }
   ],
   "source": [
    "\"Salut, \" + \"toi\""
   ]
  },
  {
   "cell_type": "code",
   "execution_count": 67,
   "id": "a7bc2128",
   "metadata": {},
   "outputs": [
    {
     "name": "stdout",
     "output_type": "stream",
     "text": [
      "Le résultat est : 2.0e+08 Wh\n",
      "Le résultat est : 40  Wh\n",
      "Le résultat est :  4  Wh\n"
     ]
    }
   ],
   "source": [
    "mon_calcul = 2+2\n",
    "# 'Le résultat est : ' + str(mon_calcul) + \"Wh\"\n",
    "# 'Le résultat est : %s Wh' % mon_calcul\n",
    "# \"Le résultat est : {} Wh\".format(mon_calcul)\n",
    "\n",
    "# Infos sur le mini langage de format : \n",
    "# https://pyformat.info/\n",
    "print(f\"Le résultat est : {200_000_000:.1e} Wh\")\n",
    "print(f\"Le résultat est : {20+20:^3} Wh\")\n",
    "print(f\"Le résultat est : {mon_calcul:^3} Wh\")"
   ]
  },
  {
   "cell_type": "code",
   "execution_count": 72,
   "id": "84435d96",
   "metadata": {},
   "outputs": [
    {
     "data": {
      "text/plain": [
       "32"
      ]
     },
     "execution_count": 72,
     "metadata": {},
     "output_type": "execute_result"
    }
   ],
   "source": [
    "len(f\"Le résultat est : {20_000_000_000} Wh\")"
   ]
  },
  {
   "cell_type": "code",
   "execution_count": 73,
   "id": "d26c61ee",
   "metadata": {},
   "outputs": [
    {
     "data": {
      "text/plain": [
       "['__add__',\n",
       " '__class__',\n",
       " '__contains__',\n",
       " '__delattr__',\n",
       " '__dir__',\n",
       " '__doc__',\n",
       " '__eq__',\n",
       " '__format__',\n",
       " '__ge__',\n",
       " '__getattribute__',\n",
       " '__getitem__',\n",
       " '__getnewargs__',\n",
       " '__gt__',\n",
       " '__hash__',\n",
       " '__init__',\n",
       " '__init_subclass__',\n",
       " '__iter__',\n",
       " '__le__',\n",
       " '__len__',\n",
       " '__lt__',\n",
       " '__mod__',\n",
       " '__mul__',\n",
       " '__ne__',\n",
       " '__new__',\n",
       " '__reduce__',\n",
       " '__reduce_ex__',\n",
       " '__repr__',\n",
       " '__rmod__',\n",
       " '__rmul__',\n",
       " '__setattr__',\n",
       " '__sizeof__',\n",
       " '__str__',\n",
       " '__subclasshook__',\n",
       " 'capitalize',\n",
       " 'casefold',\n",
       " 'center',\n",
       " 'count',\n",
       " 'encode',\n",
       " 'endswith',\n",
       " 'expandtabs',\n",
       " 'find',\n",
       " 'format',\n",
       " 'format_map',\n",
       " 'index',\n",
       " 'isalnum',\n",
       " 'isalpha',\n",
       " 'isascii',\n",
       " 'isdecimal',\n",
       " 'isdigit',\n",
       " 'isidentifier',\n",
       " 'islower',\n",
       " 'isnumeric',\n",
       " 'isprintable',\n",
       " 'isspace',\n",
       " 'istitle',\n",
       " 'isupper',\n",
       " 'join',\n",
       " 'ljust',\n",
       " 'lower',\n",
       " 'lstrip',\n",
       " 'maketrans',\n",
       " 'partition',\n",
       " 'removeprefix',\n",
       " 'removesuffix',\n",
       " 'replace',\n",
       " 'rfind',\n",
       " 'rindex',\n",
       " 'rjust',\n",
       " 'rpartition',\n",
       " 'rsplit',\n",
       " 'rstrip',\n",
       " 'split',\n",
       " 'splitlines',\n",
       " 'startswith',\n",
       " 'strip',\n",
       " 'swapcase',\n",
       " 'title',\n",
       " 'translate',\n",
       " 'upper',\n",
       " 'zfill']"
      ]
     },
     "execution_count": 73,
     "metadata": {},
     "output_type": "execute_result"
    }
   ],
   "source": [
    "dir(\"\")"
   ]
  },
  {
   "cell_type": "code",
   "execution_count": 77,
   "id": "2e22584a",
   "metadata": {},
   "outputs": [
    {
     "name": "stdout",
     "output_type": "stream",
     "text": [
      "Help on built-in function capitalize:\n",
      "\n",
      "capitalize() method of builtins.str instance\n",
      "    Return a capitalized version of the string.\n",
      "    \n",
      "    More specifically, make the first character have upper case and the rest lower\n",
      "    case.\n",
      "\n"
     ]
    }
   ],
   "source": [
    "help(\"toto\".capitalize)"
   ]
  },
  {
   "cell_type": "code",
   "execution_count": 92,
   "id": "0bc437fe",
   "metadata": {},
   "outputs": [
    {
     "ename": "IndexError",
     "evalue": "string index out of range",
     "output_type": "error",
     "traceback": [
      "\u001b[0;31m---------------------------------------------------------------------------\u001b[0m",
      "\u001b[0;31mIndexError\u001b[0m                                Traceback (most recent call last)",
      "Cell \u001b[0;32mIn [92], line 2\u001b[0m\n\u001b[1;32m      1\u001b[0m ma_chaine \u001b[38;5;241m=\u001b[39m \u001b[38;5;124m\"\u001b[39m\u001b[38;5;124mJe suis Matthieu\u001b[39m\u001b[38;5;124m\"\u001b[39m\n\u001b[0;32m----> 2\u001b[0m ma_chaine[\u001b[38;5;241m2345432\u001b[39m]\n",
      "\u001b[0;31mIndexError\u001b[0m: string index out of range"
     ]
    }
   ],
   "source": [
    "ma_chaine = \"Je suis Matthieu\"\n",
    "ma_chaine[2345432]"
   ]
  },
  {
   "cell_type": "code",
   "execution_count": 93,
   "id": "616e987f",
   "metadata": {},
   "outputs": [
    {
     "data": {
      "text/plain": [
       "''"
      ]
     },
     "execution_count": 93,
     "metadata": {},
     "output_type": "execute_result"
    }
   ],
   "source": [
    "ma_chaine = \"Je suis Matthieu\"\n",
    "ma_chaine[1234432:]"
   ]
  },
  {
   "cell_type": "code",
   "execution_count": 95,
   "id": "92c5a6f2",
   "metadata": {},
   "outputs": [
    {
     "data": {
      "text/plain": [
       "'si a'"
      ]
     },
     "execution_count": 95,
     "metadata": {},
     "output_type": "execute_result"
    }
   ],
   "source": [
    "ma_chaine = \"Je suis Matthieu\"\n",
    "ma_chaine[3:10:2]"
   ]
  },
  {
   "cell_type": "code",
   "execution_count": 96,
   "id": "4fe41a9c",
   "metadata": {},
   "outputs": [
    {
     "name": "stdout",
     "output_type": "stream",
     "text": [
      "J\n",
      "e\n",
      " \n",
      "s\n",
      "u\n",
      "i\n",
      "s\n",
      " \n",
      "M\n",
      "a\n",
      "t\n",
      "t\n",
      "h\n",
      "i\n",
      "e\n",
      "u\n"
     ]
    }
   ],
   "source": [
    "for character in ma_chaine:\n",
    "    print(character)"
   ]
  },
  {
   "cell_type": "code",
   "execution_count": 98,
   "id": "9a9e006d",
   "metadata": {},
   "outputs": [
    {
     "name": "stdout",
     "output_type": "stream",
     "text": [
      "J\n",
      "e\n",
      " \n",
      "s\n",
      "u\n",
      "i\n",
      "s\n",
      " \n",
      "M\n",
      "a\n",
      "t\n",
      "t\n",
      "h\n",
      "i\n",
      "e\n",
      "u\n"
     ]
    }
   ],
   "source": [
    "for index in range(len(ma_chaine)):\n",
    "    print(ma_chaine[index])"
   ]
  },
  {
   "cell_type": "code",
   "execution_count": 106,
   "id": "209e357b",
   "metadata": {},
   "outputs": [
    {
     "name": "stdout",
     "output_type": "stream",
     "text": [
      "c'est pas 2 ni 3\n"
     ]
    }
   ],
   "source": [
    "a = 4\n",
    "if a == 2:\n",
    "    print(\"c'est 2\")\n",
    "elif a == 3:\n",
    "    print(\"c'est 3\")\n",
    "else:\n",
    "    print(\"c'est pas 2 ni 3\")"
   ]
  },
  {
   "cell_type": "code",
   "execution_count": null,
   "id": "182784f2",
   "metadata": {},
   "outputs": [],
   "source": []
  }
 ],
 "metadata": {
  "kernelspec": {
   "display_name": "Python 3 (ipykernel)",
   "language": "python",
   "name": "python3"
  },
  "language_info": {
   "codemirror_mode": {
    "name": "ipython",
    "version": 3
   },
   "file_extension": ".py",
   "mimetype": "text/x-python",
   "name": "python",
   "nbconvert_exporter": "python",
   "pygments_lexer": "ipython3",
   "version": "3.9.9"
  }
 },
 "nbformat": 4,
 "nbformat_minor": 5
}
