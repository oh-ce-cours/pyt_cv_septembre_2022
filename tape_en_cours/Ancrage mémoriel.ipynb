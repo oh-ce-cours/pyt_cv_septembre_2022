{
 "cells": [
  {
   "cell_type": "markdown",
   "id": "a942c1e6",
   "metadata": {},
   "source": [
    "# Jour 1\n",
    "\n",
    "## Matin \n",
    "\n",
    "* \"installation\" de python \n",
    "* historique \n",
    "* notion de path et installation de python `where python` (faire bien attention à rajouter Python "
   ]
  },
  {
   "cell_type": "code",
   "execution_count": 1,
   "id": "925dc852",
   "metadata": {},
   "outputs": [],
   "source": []
  },
  {
   "cell_type": "code",
   "execution_count": null,
   "id": "9c783cee",
   "metadata": {},
   "outputs": [],
   "source": []
  }
 ],
 "metadata": {
  "kernelspec": {
   "display_name": "Python 3 (ipykernel)",
   "language": "python",
   "name": "python3"
  },
  "language_info": {
   "codemirror_mode": {
    "name": "ipython",
    "version": 3
   },
   "file_extension": ".py",
   "mimetype": "text/x-python",
   "name": "python",
   "nbconvert_exporter": "python",
   "pygments_lexer": "ipython3",
   "version": "3.9.9"
  }
 },
 "nbformat": 4,
 "nbformat_minor": 5
}
