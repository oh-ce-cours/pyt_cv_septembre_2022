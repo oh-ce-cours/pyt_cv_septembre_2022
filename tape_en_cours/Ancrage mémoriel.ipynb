{
 "cells": [
  {
   "cell_type": "markdown",
   "id": "575e3a06",
   "metadata": {},
   "source": [
    "# Jour 1\n",
    "\n",
    "## Matin \n",
    "\n",
    "* \"installation\" de python \n",
    "* historique \n",
    "* notion de path et installation de python `where python` (faire bien attention à rajouter Python au path)\n",
    "\n",
    "## Après-midi\n",
    "* `virtualenv`\n",
    "    * intérêts : \n",
    "        * avoir plusieurs projets en parrallèles (avec des versions de modules différentes)\n",
    "        * savoir dans quel python vous installez des paquets\n",
    "    * fonctionnement (cycle de vie) : \n",
    "        * creation : `python -m venv LE_NOM_DU_VENV` (par convention l'environnement s'appelle `venv` : `python -m venv venv`)\n",
    "        * activation : \n",
    "            * windows : `LE_NOM_DU_VENV\\Scripts\\activate`\n",
    "            * linux / unix : `source LE_NOM_DU_VENV/bin/activate`\n",
    "            * avec VSCode : on pointe l'interpréteur dessus avec le menu en bas à droite https://code.visualstudio.com/docs/python/environments \n",
    "        * on peut utiliser l'environnement sans l'activer en allant chercher le binaire python directement avec son chemin complet : `CHEMIN_VERS_LE_VENV\\LE_NOM_DU_VENV\\Scripts\\python.exe`\n",
    "        * désactivation : `deactivate`\n",
    "        * destruction : on supprime le dossier `LE_NOM_DU_VENV`\n",
    "* bonnes pratiques et configuration d'un éditeur de texte (VSCode)\n",
    "    * linters (le collègue stricte qui lit votre code) : \n",
    "        * pylint (linter généraliste)\n",
    "        * mypy (linter spécialisé dans les vérifications de types)\n",
    "    * autoformateur \n",
    "        * black (permet de formater automatiquement en respectant la pep8 : https://peps.python.org/pep-0008/)\n",
    "\n",
    "* point syntaxe python :\n",
    "    * opérations de bases sur les calculs / types numériques \n",
    "    * création de chaines \n",
    "    * types spécifiques de chaines : `raw strings` (`r\"blabla\"`) pour les chemins windows, `format string` (`f\"{une_variable}\"`)\n",
    "* exercice \"fizzbuzz\"\n"
   ]
  },
  {
   "cell_type": "code",
   "execution_count": 3,
   "id": "83852fdc",
   "metadata": {},
   "outputs": [
    {
     "data": {
      "text/plain": [
       "'.4'"
      ]
     },
     "execution_count": 3,
     "metadata": {},
     "output_type": "execute_result"
    }
   ],
   "source": [
    "f\"{2+2}\""
   ]
  },
  {
   "cell_type": "code",
   "execution_count": null,
   "id": "7206e8e0",
   "metadata": {},
   "outputs": [],
   "source": []
  }
 ],
 "metadata": {
  "kernelspec": {
   "display_name": "Python 3 (ipykernel)",
   "language": "python",
   "name": "python3"
  },
  "language_info": {
   "codemirror_mode": {
    "name": "ipython",
    "version": 3
   },
   "file_extension": ".py",
   "mimetype": "text/x-python",
   "name": "python",
   "nbconvert_exporter": "python",
   "pygments_lexer": "ipython3",
   "version": "3.9.9"
  }
 },
 "nbformat": 4,
 "nbformat_minor": 5
}
