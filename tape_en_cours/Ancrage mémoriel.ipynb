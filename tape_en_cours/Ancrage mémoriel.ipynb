{
 "cells": [
  {
   "cell_type": "markdown",
   "id": "85202771",
   "metadata": {},
   "source": [
    "# Jour 1\n",
    "\n",
    "## Matin \n",
    "\n",
    "* \"installation\" de python \n",
    "* historique \n",
    "* notion de path et installation de python `where python` (faire bien attention à rajouter Python au path)\n",
    "\n",
    "## Après-midi\n",
    "* `virtualenv`\n",
    "    * intérêts : \n",
    "        * avoir plusieurs projets en parrallèles (avec des versions de modules différentes)\n",
    "        * savoir dans quel python vous installez des paquets\n",
    "    * fonctionnement (cycle de vie) : \n",
    "        * creation : `python -m venv LE_NOM_DU_VENV` (par convention l'environnement s'appelle `venv` : `python -m venv venv`)\n",
    "        * activation : \n",
    "            * windows : `LE_NOM_DU_VENV\\Scripts\\activate`\n",
    "            * linux / unix : `source LE_NOM_DU_VENV/bin/activate`\n",
    "            * avec VSCode : on pointe l'interpréteur dessus avec le menu en bas à droite https://code.visualstudio.com/docs/python/environments \n",
    "        * on peut utiliser l'environnement sans l'activer en allant chercher le binaire python directement avec son chemin complet : `CHEMIN_VERS_LE_VENV\\LE_NOM_DU_VENV\\Scripts\\python.exe`\n",
    "        * désactivation : `deactivate`\n",
    "        * destruction : on supprime le dossier `LE_NOM_DU_VENV`\n",
    "* bonnes pratiques et configuration d'un éditeur de texte (VSCode)\n",
    "    * linters (le collègue stricte qui lit votre code) : \n",
    "        * pylint (linter généraliste)\n",
    "        * mypy (linter spécialisé dans les vérifications de types)\n",
    "    * autoformateur \n",
    "        * black (permet de formater automatiquement en respectant la pep8 : https://peps.python.org/pep-0008/)\n",
    "\n",
    "* point syntaxe python :\n",
    "    * opérations de bases sur les calculs / types numériques \n",
    "    * création de chaines \n",
    "    * types spécifiques de chaines : `raw strings` (`r\"blabla\"`) pour les chemins windows, `format string` (`f\"{une_variable}\"`)\n",
    "    * connaitres toutes les méthodes disponibles pour un objet : \n",
    "        * la doc python \n",
    "        * `dir(ma_variable)`\n",
    "    * connaitre la documentation pour une variable : `help(ma_variable)`\n",
    "    * manipulations de conteneurs \n",
    "        * accès à un élément précis : mon_conteneur[index] (l'index du premier élément est 0)\n",
    "        * accéder à une tranche de l'élément (slice) : mon_conteneur[index_debut:index_fin:saut]\n",
    "    * générer les nombres de 1 à 100 : `range(1, 101)` (avoir tous les nombres pairs de 2 à 100 :  `list(range(2, 101, 2))`\n",
    "    * pour les boucles on itère directement sur les éléments\n",
    "    * pour les conditions : `if` / `elif` / `else`\n",
    "* exercice \"fizzbuzz\"\n"
   ]
  },
  {
   "cell_type": "code",
   "execution_count": 8,
   "id": "6aa64874",
   "metadata": {},
   "outputs": [
    {
     "data": {
      "text/plain": [
       "'ma_variable=2'"
      ]
     },
     "execution_count": 8,
     "metadata": {},
     "output_type": "execute_result"
    }
   ],
   "source": [
    "# fstring pour du débug\n",
    "ma_variable = 2\n",
    "f\"{ma_variable=}\""
   ]
  },
  {
   "cell_type": "code",
   "execution_count": 25,
   "id": "df9578b9",
   "metadata": {},
   "outputs": [
    {
     "data": {
      "text/plain": [
       "'bool(\"une chaine\")=True, bool(\"\")=False, bool(3)=True, bool(0)=False, bool(-33)=True, bool([])=False, bool([1])=True, bool(None)=False'"
      ]
     },
     "execution_count": 25,
     "metadata": {},
     "output_type": "execute_result"
    }
   ],
   "source": [
    "f'{bool(\"une chaine\")=}, {bool(\"\")=}, {bool(3)=}, {bool(0)=}, {bool(-33)=}, {bool([])=}, {bool([1])=}, {bool(None)=}'"
   ]
  },
  {
   "cell_type": "code",
   "execution_count": 38,
   "id": "e817777e",
   "metadata": {},
   "outputs": [
    {
     "data": {
      "text/plain": [
       "'fizz'"
      ]
     },
     "execution_count": 38,
     "metadata": {},
     "output_type": "execute_result"
    }
   ],
   "source": [
    "\"fizz\" * (3 % 3 == 0) + \"buzz\" * (3 % 5 == 0)"
   ]
  },
  {
   "cell_type": "code",
   "execution_count": 37,
   "id": "d6ae2fad",
   "metadata": {},
   "outputs": [
    {
     "data": {
      "text/plain": [
       "(1, 0)"
      ]
     },
     "execution_count": 37,
     "metadata": {},
     "output_type": "execute_result"
    }
   ],
   "source": [
    "int(3 % 3 == 0), int(5 % 3 == 0)"
   ]
  },
  {
   "cell_type": "code",
   "execution_count": 45,
   "id": "f4a978e4",
   "metadata": {},
   "outputs": [
    {
     "data": {
      "text/plain": [
       "3"
      ]
     },
     "execution_count": 45,
     "metadata": {},
     "output_type": "execute_result"
    }
   ],
   "source": [
    "3 or 1/0"
   ]
  },
  {
   "cell_type": "code",
   "execution_count": 43,
   "id": "4ef6f19c",
   "metadata": {},
   "outputs": [
    {
     "data": {
      "text/plain": [
       "0"
      ]
     },
     "execution_count": 43,
     "metadata": {},
     "output_type": "execute_result"
    }
   ],
   "source": [
    "0 and 2"
   ]
  },
  {
   "cell_type": "code",
   "execution_count": 52,
   "id": "e9604285",
   "metadata": {},
   "outputs": [],
   "source": [
    "ma_var = 2\n",
    "if isinstance(ma_var, str) and ma_var.capitalize() == \"Toto\":\n",
    "        print(\"youpi\")"
   ]
  },
  {
   "cell_type": "code",
   "execution_count": null,
   "id": "271550c6",
   "metadata": {},
   "outputs": [],
   "source": []
  }
 ],
 "metadata": {
  "kernelspec": {
   "display_name": "Python 3 (ipykernel)",
   "language": "python",
   "name": "python3"
  },
  "language_info": {
   "codemirror_mode": {
    "name": "ipython",
    "version": 3
   },
   "file_extension": ".py",
   "mimetype": "text/x-python",
   "name": "python",
   "nbconvert_exporter": "python",
   "pygments_lexer": "ipython3",
   "version": "3.9.9"
  }
 },
 "nbformat": 4,
 "nbformat_minor": 5
}
