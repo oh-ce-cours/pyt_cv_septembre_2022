{
 "cells": [
  {
   "cell_type": "markdown",
   "id": "1b6e7857",
   "metadata": {},
   "source": [
    "# Jour 1\n",
    "\n",
    "## Matin \n",
    "\n",
    "* \"installation\" de python \n",
    "* historique \n",
    "* notion de path et installation de python `where python` (faire bien attention à rajouter Python au path)\n",
    "\n",
    "## Après-midi\n",
    "* `virtualenv`\n",
    "    * intérêts : \n",
    "        * avoir plusieurs projets en parrallèles (avec des versions de modules différentes)\n",
    "        * savoir dans quel python vous installez des paquets\n",
    "    * fonctionnement (cycle de vie) : \n",
    "        * creation : `python -m venv LE_NOM_DU_VENV` (par convention l'environnement s'appelle `venv` : `python -m venv venv`)\n",
    "        * activation : \n",
    "            * windows : `LE_NOM_DU_VENV\\Scripts\\activate`\n",
    "            * linux / unix : `source LE_NOM_DU_VENV/bin/activate`\n",
    "            * avec VSCode : on pointe l'interpréteur dessus avec le menu en bas à droite https://code.visualstudio.com/docs/python/environments \n",
    "        * on peut utiliser l'environnement sans l'activer en allant chercher le binaire python directement avec son chemin complet : `CHEMIN_VERS_LE_VENV\\LE_NOM_DU_VENV\\Scripts\\python.exe`\n",
    "        * désactivation : `deactivate`\n",
    "        * destruction : on supprime le dossier `LE_NOM_DU_VENV`\n",
    "* bonnes pratiques et configuration d'un éditeur de texte (VSCode)\n",
    "    * linters (le collègue stricte qui lit votre code) : \n",
    "        * pylint (linter généraliste)\n",
    "        * mypy (linter spécialisé dans les vérifications de types)\n",
    "    * autoformateur \n",
    "        * black (permet de formater automatiquement en respectant la pep8 : https://peps.python.org/pep-0008/)\n",
    "\n",
    "* point syntaxe python :\n",
    "    * opérations de bases sur les calculs / types numériques \n",
    "    * création de chaines \n",
    "    * types spécifiques de chaines : `raw strings` (`r\"blabla\"`) pour les chemins windows, `format string` (`f\"{une_variable}\"`)\n",
    "    * connaitres toutes les méthodes disponibles pour un objet : \n",
    "        * la doc python \n",
    "        * `dir(ma_variable)`\n",
    "    * connaitre la documentation pour une variable : `help(ma_variable)`\n",
    "    * manipulations de conteneurs \n",
    "        * accès à un élément précis : mon_conteneur[index] (l'index du premier élément est 0)\n",
    "        * accéder à une tranche de l'élément (slice) : mon_conteneur[index_debut:index_fin:saut]\n",
    "    * générer les nombres de 1 à 100 : `range(1, 101)` (avoir tous les nombres pairs de 2 à 100 :  `list(range(2, 101, 2))`\n",
    "    * pour les boucles on itère directement sur les éléments\n",
    "    * pour les conditions : `if` / `elif` / `else`\n",
    "* exercice \"fizzbuzz\"\n"
   ]
  },
  {
   "cell_type": "code",
   "execution_count": 57,
   "id": "8e9b1442",
   "metadata": {},
   "outputs": [
    {
     "data": {
      "text/plain": [
       "'ma_variable=2'"
      ]
     },
     "execution_count": 57,
     "metadata": {},
     "output_type": "execute_result"
    }
   ],
   "source": [
    "# fstring pour du débug\n",
    "ma_variable = 2\n",
    "f\"{ma_variable=}\""
   ]
  },
  {
   "cell_type": "code",
   "execution_count": 58,
   "id": "a878d0f4",
   "metadata": {},
   "outputs": [
    {
     "data": {
      "text/plain": [
       "'bool(\"une chaine\")=True, bool(\"\")=False, bool(3)=True, bool(0)=False, bool(-33)=True, bool([])=False, bool([1])=True, bool(None)=False'"
      ]
     },
     "execution_count": 58,
     "metadata": {},
     "output_type": "execute_result"
    }
   ],
   "source": [
    "f'{bool(\"une chaine\")=}, {bool(\"\")=}, {bool(3)=}, {bool(0)=}, {bool(-33)=}, {bool([])=}, {bool([1])=}, {bool(None)=}'"
   ]
  },
  {
   "cell_type": "code",
   "execution_count": 59,
   "id": "016e659f",
   "metadata": {},
   "outputs": [
    {
     "data": {
      "text/plain": [
       "'fizz'"
      ]
     },
     "execution_count": 59,
     "metadata": {},
     "output_type": "execute_result"
    }
   ],
   "source": [
    "\"fizz\" * (3 % 3 == 0) + \"buzz\" * (3 % 5 == 0)"
   ]
  },
  {
   "cell_type": "code",
   "execution_count": 60,
   "id": "28bea14b",
   "metadata": {},
   "outputs": [
    {
     "data": {
      "text/plain": [
       "(1, 0)"
      ]
     },
     "execution_count": 60,
     "metadata": {},
     "output_type": "execute_result"
    }
   ],
   "source": [
    "int(3 % 3 == 0), int(5 % 3 == 0)"
   ]
  },
  {
   "cell_type": "code",
   "execution_count": 61,
   "id": "b48733ee",
   "metadata": {},
   "outputs": [
    {
     "data": {
      "text/plain": [
       "0"
      ]
     },
     "execution_count": 61,
     "metadata": {},
     "output_type": "execute_result"
    }
   ],
   "source": [
    "\"\" or 0"
   ]
  },
  {
   "cell_type": "code",
   "execution_count": 62,
   "id": "4ea970e4",
   "metadata": {},
   "outputs": [
    {
     "data": {
      "text/plain": [
       "0"
      ]
     },
     "execution_count": 62,
     "metadata": {},
     "output_type": "execute_result"
    }
   ],
   "source": [
    "0 and 2"
   ]
  },
  {
   "cell_type": "code",
   "execution_count": 63,
   "id": "9e653d4d",
   "metadata": {},
   "outputs": [],
   "source": [
    "ma_var = 2 # \"toto\"\n",
    "if isinstance(ma_var, str) and ma_var.capitalize() == \"Toto\":\n",
    "    print(\"youpi\")"
   ]
  },
  {
   "cell_type": "markdown",
   "id": "4e3516fb",
   "metadata": {},
   "source": [
    "# Mardi \n",
    "\n",
    "## Matin \n",
    "\n",
    "* exercice fizzbuzz + corrections \n",
    "    * plusieurs manières de résoudre le problème, certaines plus \"explicites\" que d'autres   \n",
    "* manipulations de booléens et valeurs par défaut à l'aide de `or` \n",
    "* manipulations de fichiers \n",
    "    * ouvrir en lecture (par défaut) : `f = open(NOM_DU_FICHIER, \"r\")`, on le parcours `f.readlines()`, on le ferme `f.close()`\n",
    "    * ouvrir en écriure : `f = open(NOM_DU_FICHIER, \"w\")`, on écrit du contenu `f.write(\"toto\")`, on le ferme `f.close()`\n",
    "    * on peut l'ouvrir de différentes façons (read, write, append, binaire) => aller lire l'aide de open pour en savoir plus \n",
    "    * on peut utiliser des `context manager` pour faciliter la gestion des fichiers (il est fermé automatiquement quand on sort)\n",
    "* création de fonctions\n",
    "    * mot clé `def`, suivu du nom de la fonction, suivi de la liste des paramètres entre parenthèses\n",
    "    * on peut mettre des valeurs par défaut en mettant `(param= MA_VALEUR)`\n",
    "    * il faut faire attention aux valeurs par défaut qui peuvent être mutées et plutôt utiliser des types immutables (nombres, chaine de caractères, tuples, None)\n",
    "    \n",
    "* listes en compréhension (comprehension list) : `[x ** 2 for x in range(10)]`\n",
    "\n",
    "## Après-midi\n",
    "\n",
    "* manipulations d'itérables \n",
    "* création de générateurs \n",
    "    * les générateurs sont des fonctions où l'on utilise le mot clé `yield`\n",
    "    * les yields sont des \"returns intermédiaires\", ils vont mettre la fonction en pause, retourner un résultat, puis la fonction pourra reprendre de là où elle s'est arrêtée\n",
    "* les iterables (listes, dict, tuples, set, generateurs) sont parcurus à l'aide de la fonction `next`, cette fonction va renvoyer la valeur suivante de l'itérateur, quand on arrive à la fin, elle va lever une exception `StopIteration`"
   ]
  },
  {
   "cell_type": "markdown",
   "id": "801613ea",
   "metadata": {},
   "source": [
    "# Mercredi\n",
    "\n",
    "## Matin \n",
    "\n",
    "* boucle while \n",
    "* les context managers (`with`) pour l'ouverture de fichiers (et bien d'autres) : https://realpython.com/python-with-statement/ \n",
    "* fonctions `lambda` (création de fonctions anonymes)\n",
    "* exceptions :\n",
    "    * `try` : le code qui peut créer une erreur \n",
    "    * `except` : le code qui gèe l'erreur levée dans le try => ATTENTION : il faut TOUJOURS préciser quelle exception on veut gérer\n",
    "    * `finally` : \n",
    "    * `else` : \n",
    "    * il y a une hierarchie d'exception, quand on en capture une on capture également toutes celles en dessous \n",
    "* types : \n",
    "    * listes : mutables (on peut la modifier une fois qu'elle est créée)\n",
    "    * tuples : immutables (on ne peut pas le modifier)\n",
    "    * dictionnaires : \n",
    "        * permettent de stocker des clés avec des valeurs associées\n",
    "        * les clés ne peuvent pas être dupliquées\n",
    "        * la recherche d'une clé dans un dictionnaire est \"facile / rapide\" car il possède une structure inerne \n",
    "    * les `set` (ensemble)\n",
    "        * permmettent de stocker un ensemble de données sans doublons (penser qu'il s'agit d'un dictionnaire avec uniquement des clés) => ne peuvent contenir que des éléments immutables\n",
    "        * permettent de faire facilement et de façon performante des opérations ensemblistes (union de 2 sets, différences, ...)\n",
    "    \n",
    "(https://w3.cs.jmu.edu/spragunr/CS240_F14/activities/exceptions/exception_hierarchy.png)[]\n",
    "\n",
    "## Après-midi\n",
    "\n",
    "* manipulation d'API REST\n",
    "* manipulation de JSON / CSV "
   ]
  },
  {
   "cell_type": "markdown",
   "id": "236e3b89",
   "metadata": {},
   "source": [
    "# Jeudi \n",
    "\n",
    "## Matin\n",
    "\n",
    "* manipulation de CSV \n",
    "    * création\n",
    "    * lecture \n",
    "    * utilisation du module CSV \n",
    "    * utilisation de pandas (bibliothèque tierce)\n",
    "        * très utilisé en datascience / analyse de données\n",
    "    * création de graphique à l'aide de pandas / "
   ]
  }
 ],
 "metadata": {
  "kernelspec": {
   "display_name": "Python 3 (ipykernel)",
   "language": "python",
   "name": "python3"
  },
  "language_info": {
   "codemirror_mode": {
    "name": "ipython",
    "version": 3
   },
   "file_extension": ".py",
   "mimetype": "text/x-python",
   "name": "python",
   "nbconvert_exporter": "python",
   "pygments_lexer": "ipython3",
   "version": "3.9.9"
  }
 },
 "nbformat": 4,
 "nbformat_minor": 5
}
