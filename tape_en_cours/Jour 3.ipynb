{
 "cells": [
  {
   "cell_type": "code",
   "execution_count": 18,
   "id": "cd47340c",
   "metadata": {},
   "outputs": [],
   "source": [
    "f = open(\"toto2.txt\", \"w\")\n",
    "\n",
    "prenom = \"Matthieu\"\n",
    "f.write(f\"Bonjour, je suis {prenom}\\nEt je fais du python !\\n\")\n",
    "f.close()"
   ]
  },
  {
   "cell_type": "code",
   "execution_count": 19,
   "id": "eb8c79ae",
   "metadata": {},
   "outputs": [
    {
     "name": "stdout",
     "output_type": "stream",
     "text": [
      "['Bonjour, je suis Matthieu\\n', 'Et je fais du python !\\n']\n",
      "False\n",
      "True\n"
     ]
    }
   ],
   "source": [
    "with open(\"toto2.txt\") as f:\n",
    "    print(f.readlines())\n",
    "    print(f.closed)\n",
    "\n",
    "print(f.closed)"
   ]
  },
  {
   "cell_type": "code",
   "execution_count": 20,
   "id": "c329aeb0",
   "metadata": {},
   "outputs": [],
   "source": [
    "with open(\"toto2.txt\", \"w\") as f:\n",
    "    prenom = \"Matthieu\"\n",
    "    f.write(f\"Bonjour, je suis {prenom}\\nEt je fais du python !\\n\")"
   ]
  },
  {
   "cell_type": "code",
   "execution_count": 21,
   "id": "20aaf561",
   "metadata": {},
   "outputs": [
    {
     "name": "stdout",
     "output_type": "stream",
     "text": [
      "9\n"
     ]
    }
   ],
   "source": [
    "# les variables \"fuitent\" (leak) des blocs, \n",
    "# le seul bloc qui ne fuite pas, c'est les fonctions\n",
    "for i in range(10):\n",
    "    tototo = i \n",
    "\n",
    "print(tototo)"
   ]
  },
  {
   "cell_type": "code",
   "execution_count": 24,
   "id": "28f9d4a7",
   "metadata": {},
   "outputs": [
    {
     "name": "stdout",
     "output_type": "stream",
     "text": [
      "['Bonjour, je suis Matthieu\\n', 'Et je fais du python !\\n']\n",
      "['Bonjour, je suis Matthieu\\n', 'Et je fais du python !\\n', 'Bonjour, je suis Matthieu\\n', 'Et je fais du python !\\n', 'Bonjour, je suis Matthieu\\n', 'Et je fais du python !\\n', 'Bonjour, je suis Matthieu\\n', 'Et je fais du python !\\n']\n"
     ]
    }
   ],
   "source": [
    "with open(\"toto2.txt\") as f1, open(\"toto.txt\") as f2:\n",
    "    print(f1.readlines())\n",
    "    print(f2.readlines())"
   ]
  },
  {
   "cell_type": "code",
   "execution_count": 29,
   "id": "5f5ed04f",
   "metadata": {},
   "outputs": [],
   "source": [
    "def inutile(p=[]):\n",
    "    p.append(\"toto\")\n",
    "    print(p)\n",
    "\n",
    "def inutile_vide_a_chaque_fois(p=None):\n",
    "    if p is None:\n",
    "        p = []\n",
    "    # p = p or []\n",
    "    p.append(\"toto\")\n",
    "    print(p)"
   ]
  },
  {
   "cell_type": "code",
   "execution_count": 30,
   "id": "e740c5e9",
   "metadata": {},
   "outputs": [
    {
     "name": "stdout",
     "output_type": "stream",
     "text": [
      "['toto']\n"
     ]
    }
   ],
   "source": [
    "inutile()"
   ]
  },
  {
   "cell_type": "code",
   "execution_count": 31,
   "id": "9fe63157",
   "metadata": {},
   "outputs": [
    {
     "name": "stdout",
     "output_type": "stream",
     "text": [
      "['toto', 'toto']\n"
     ]
    }
   ],
   "source": [
    "inutile()"
   ]
  },
  {
   "cell_type": "code",
   "execution_count": 32,
   "id": "8b816cce",
   "metadata": {},
   "outputs": [
    {
     "name": "stdout",
     "output_type": "stream",
     "text": [
      "['toto']\n"
     ]
    }
   ],
   "source": [
    "inutile_vide_a_chaque_fois()"
   ]
  },
  {
   "cell_type": "code",
   "execution_count": 33,
   "id": "88ff567d",
   "metadata": {},
   "outputs": [
    {
     "name": "stdout",
     "output_type": "stream",
     "text": [
      "['toto']\n"
     ]
    }
   ],
   "source": [
    "inutile_vide_a_chaque_fois()"
   ]
  },
  {
   "cell_type": "code",
   "execution_count": 35,
   "id": "285d3790",
   "metadata": {},
   "outputs": [
    {
     "name": "stdout",
     "output_type": "stream",
     "text": [
      "6\n",
      "8\n"
     ]
    }
   ],
   "source": [
    "def ma_fonction(nombre):\n",
    "    return nombre * 2 \n",
    "\n",
    "print(ma_fonction(3))\n",
    "\n",
    "####################\n",
    "\n",
    "ma_fonction_lambda = lambda nombre: nombre * 2\n",
    "print(ma_fonction_lambda(4))"
   ]
  },
  {
   "cell_type": "code",
   "execution_count": 46,
   "id": "fd0a60e2",
   "metadata": {},
   "outputs": [
    {
     "data": {
      "text/plain": [
       "[('Project', 1),\n",
       " ('Gutenberg’s', 1),\n",
       " ('Alice’s', 1),\n",
       " ('Adventures', 1),\n",
       " ('in', 1),\n",
       " ('Wonderland', 1),\n",
       " ('Project', 1),\n",
       " ('Gutenberg’s', 1),\n",
       " ('Adventures', 1),\n",
       " ('in', 1),\n",
       " ('Wonderland', 1),\n",
       " ('Project', 1),\n",
       " ('Gutenberg’s', 1)]"
      ]
     },
     "execution_count": 46,
     "metadata": {},
     "output_type": "execute_result"
    }
   ],
   "source": [
    "data = [\"Project\",\"Gutenberg’s\",\"Alice’s\",\"Adventures\",\n",
    "\"in\",\"Wonderland\",\"Project\",\"Gutenberg’s\",\"Adventures\",\n",
    "\"in\",\"Wonderland\",\"Project\",\"Gutenberg’s\"]\n",
    "list(map(lambda x: (x,1), data))\n",
    "\n"
   ]
  },
  {
   "cell_type": "code",
   "execution_count": 44,
   "id": "b507e565",
   "metadata": {},
   "outputs": [
    {
     "name": "stdout",
     "output_type": "stream",
     "text": [
      "[('Project', 1), ('Gutenberg’s', 1), ('Alice’s', 1), ('Adventures', 1), ('in', 1), ('Wonderland', 1), ('Project', 1), ('Gutenberg’s', 1), ('Adventures', 1), ('in', 1), ('Wonderland', 1), ('Project', 1), ('Gutenberg’s', 1)]\n"
     ]
    }
   ],
   "source": [
    "def fonction_a_appliquer(x):\n",
    "    return (x,1)\n",
    "\n",
    "res = []\n",
    "for e in data:\n",
    "    res.append(fonction_a_appliquer(e))\n",
    "\n",
    "print(res)"
   ]
  },
  {
   "cell_type": "code",
   "execution_count": 47,
   "id": "4e24dbad",
   "metadata": {},
   "outputs": [],
   "source": [
    "[(x, 1) for x in data]  # list comprehension\n",
    "######\n",
    "res = []\n",
    "for x in data:\n",
    "    res.append((x, 1))"
   ]
  },
  {
   "cell_type": "code",
   "execution_count": 51,
   "id": "cfeaacf2",
   "metadata": {},
   "outputs": [
    {
     "data": {
      "text/plain": [
       "2"
      ]
     },
     "execution_count": 51,
     "metadata": {},
     "output_type": "execute_result"
    }
   ],
   "source": [
    "def ma_nouvelle_fonction():\n",
    "    return ma_nouvelle_fonction_autre()\n",
    "\n",
    "def ma_nouvelle_fonction_autre():\n",
    "    return 3\n",
    "\n",
    "ma_nouvelle_fonction()"
   ]
  },
  {
   "cell_type": "markdown",
   "id": "e69ec5e7",
   "metadata": {},
   "source": [
    "# Types de données en Python"
   ]
  },
  {
   "cell_type": "markdown",
   "id": "24e2b91e",
   "metadata": {},
   "source": [
    "## Listes"
   ]
  },
  {
   "cell_type": "code",
   "execution_count": 53,
   "id": "a91ab523",
   "metadata": {},
   "outputs": [
    {
     "name": "stdout",
     "output_type": "stream",
     "text": [
      "[1, 2, 3, 4]\n",
      "[2, 3, 4]\n",
      "3\n"
     ]
    }
   ],
   "source": [
    "ma_liste = [1, 2, 3]\n",
    "ma_liste.append(4)\n",
    "print(ma_liste)\n",
    "ma_liste.pop(0)\n",
    "print(ma_liste)\n",
    "print(len(ma_liste))"
   ]
  },
  {
   "cell_type": "code",
   "execution_count": 60,
   "id": "a3226e17",
   "metadata": {},
   "outputs": [
    {
     "name": "stdout",
     "output_type": "stream",
     "text": [
      "[1, 'riri', 3, [1, [2], 3, (1, 2, 3)]]\n",
      "[1, 2, 3, [1, [2], 3, (1, 2, 3)]]\n"
     ]
    }
   ],
   "source": [
    "ma_liste = [1, \"riri\", 3, [1, [2], 3, (1, 2, 3)]]\n",
    "print(ma_liste)\n",
    "ma_liste[1] = 2\n",
    "print(ma_liste)"
   ]
  },
  {
   "cell_type": "markdown",
   "id": "e44200a2",
   "metadata": {},
   "source": [
    "## Tuples"
   ]
  },
  {
   "cell_type": "code",
   "execution_count": 62,
   "id": "0e4e085f",
   "metadata": {},
   "outputs": [
    {
     "name": "stdout",
     "output_type": "stream",
     "text": [
      "<class 'tuple'>\n",
      "(1, 2, [3, 2], (2, 432))\n"
     ]
    }
   ],
   "source": [
    "mon_tuple = (1, 2, [3, 2], (2, 432))\n",
    "print(type(mon_tuple))\n",
    "print(mon_tuple)"
   ]
  },
  {
   "cell_type": "code",
   "execution_count": 57,
   "id": "c44c33d4",
   "metadata": {},
   "outputs": [
    {
     "ename": "AttributeError",
     "evalue": "'tuple' object has no attribute 'append'",
     "output_type": "error",
     "traceback": [
      "\u001b[0;31m---------------------------------------------------------------------------\u001b[0m",
      "\u001b[0;31mAttributeError\u001b[0m                            Traceback (most recent call last)",
      "Cell \u001b[0;32mIn [57], line 1\u001b[0m\n\u001b[0;32m----> 1\u001b[0m mon_tuple\u001b[38;5;241m.\u001b[39mappend(\u001b[38;5;241m3\u001b[39m)\n",
      "\u001b[0;31mAttributeError\u001b[0m: 'tuple' object has no attribute 'append'"
     ]
    }
   ],
   "source": [
    "mon_tuple.append(3)"
   ]
  },
  {
   "cell_type": "code",
   "execution_count": 64,
   "id": "af3abfda",
   "metadata": {},
   "outputs": [
    {
     "ename": "TypeError",
     "evalue": "'tuple' object does not support item assignment",
     "output_type": "error",
     "traceback": [
      "\u001b[0;31m---------------------------------------------------------------------------\u001b[0m",
      "\u001b[0;31mTypeError\u001b[0m                                 Traceback (most recent call last)",
      "Cell \u001b[0;32mIn [64], line 1\u001b[0m\n\u001b[0;32m----> 1\u001b[0m mon_tuple[\u001b[38;5;241m2\u001b[39m] \u001b[38;5;241m=\u001b[39m \u001b[38;5;241m3\u001b[39m\n",
      "\u001b[0;31mTypeError\u001b[0m: 'tuple' object does not support item assignment"
     ]
    }
   ],
   "source": [
    "mon_tuple[2] = 3"
   ]
  },
  {
   "cell_type": "markdown",
   "id": "aa205abf",
   "metadata": {},
   "source": [
    "## Dictionnaires"
   ]
  },
  {
   "cell_type": "code",
   "execution_count": 70,
   "id": "02f67e9f",
   "metadata": {},
   "outputs": [
    {
     "name": "stdout",
     "output_type": "stream",
     "text": [
      "{'Matthieu': '07xxxxx', 'Antoine': '07xxxxxxx', 'Nicolas': '06xxxxxx', 1: [1, 2, 3]}\n"
     ]
    }
   ],
   "source": [
    "mon_dict = {\"Matthieu\": \"06xxxxxx\", \"Antoine\": \"07xxxxxxx\"}\n",
    "mon_dict[\"Nicolas\"] = \"06xxxxxx\"\n",
    "mon_dict[\"Matthieu\"] = \"07xxxxx\"\n",
    "mon_dict[1] = [1, 2, 3]\n",
    "print(mon_dict)\n",
    "#mon_dict[\"Mathieu\"]"
   ]
  },
  {
   "cell_type": "markdown",
   "id": "44b23683",
   "metadata": {},
   "source": []
  }
 ],
 "metadata": {
  "kernelspec": {
   "display_name": "Python 3 (ipykernel)",
   "language": "python",
   "name": "python3"
  },
  "language_info": {
   "codemirror_mode": {
    "name": "ipython",
    "version": 3
   },
   "file_extension": ".py",
   "mimetype": "text/x-python",
   "name": "python",
   "nbconvert_exporter": "python",
   "pygments_lexer": "ipython3",
   "version": "3.9.9"
  }
 },
 "nbformat": 4,
 "nbformat_minor": 5
}
