{
 "cells": [
  {
   "cell_type": "code",
   "execution_count": 18,
   "id": "a2a22d8d",
   "metadata": {},
   "outputs": [],
   "source": [
    "f = open(\"toto2.txt\", \"w\")\n",
    "\n",
    "prenom = \"Matthieu\"\n",
    "f.write(f\"Bonjour, je suis {prenom}\\nEt je fais du python !\\n\")\n",
    "f.close()"
   ]
  },
  {
   "cell_type": "code",
   "execution_count": 19,
   "id": "75f8d6a3",
   "metadata": {},
   "outputs": [
    {
     "name": "stdout",
     "output_type": "stream",
     "text": [
      "['Bonjour, je suis Matthieu\\n', 'Et je fais du python !\\n']\n",
      "False\n",
      "True\n"
     ]
    }
   ],
   "source": [
    "with open(\"toto2.txt\") as f:\n",
    "    print(f.readlines())\n",
    "    print(f.closed)\n",
    "\n",
    "print(f.closed)"
   ]
  },
  {
   "cell_type": "code",
   "execution_count": 20,
   "id": "c4dbef7f",
   "metadata": {},
   "outputs": [],
   "source": [
    "with open(\"toto2.txt\", \"w\") as f:\n",
    "    prenom = \"Matthieu\"\n",
    "    f.write(f\"Bonjour, je suis {prenom}\\nEt je fais du python !\\n\")"
   ]
  },
  {
   "cell_type": "code",
   "execution_count": 21,
   "id": "a7f01c69",
   "metadata": {},
   "outputs": [
    {
     "name": "stdout",
     "output_type": "stream",
     "text": [
      "9\n"
     ]
    }
   ],
   "source": [
    "# les variables \"fuitent\" (leak) des blocs, \n",
    "# le seul bloc qui ne fuite pas, c'est les fonctions\n",
    "for i in range(10):\n",
    "    tototo = i \n",
    "\n",
    "print(tototo)"
   ]
  },
  {
   "cell_type": "code",
   "execution_count": 24,
   "id": "a461bf08",
   "metadata": {},
   "outputs": [
    {
     "name": "stdout",
     "output_type": "stream",
     "text": [
      "['Bonjour, je suis Matthieu\\n', 'Et je fais du python !\\n']\n",
      "['Bonjour, je suis Matthieu\\n', 'Et je fais du python !\\n', 'Bonjour, je suis Matthieu\\n', 'Et je fais du python !\\n', 'Bonjour, je suis Matthieu\\n', 'Et je fais du python !\\n', 'Bonjour, je suis Matthieu\\n', 'Et je fais du python !\\n']\n"
     ]
    }
   ],
   "source": [
    "with open(\"toto2.txt\") as f1, open(\"toto.txt\") as f2:\n",
    "    print(f1.readlines())\n",
    "    print(f2.readlines())"
   ]
  },
  {
   "cell_type": "code",
   "execution_count": 29,
   "id": "c351736d",
   "metadata": {},
   "outputs": [],
   "source": [
    "def inutile(p=[]):\n",
    "    p.append(\"toto\")\n",
    "    print(p)\n",
    "\n",
    "def inutile_vide_a_chaque_fois(p=None):\n",
    "    if p is None:\n",
    "        p = []\n",
    "    # p = p or []\n",
    "    p.append(\"toto\")\n",
    "    print(p)"
   ]
  },
  {
   "cell_type": "code",
   "execution_count": 30,
   "id": "8c574c08",
   "metadata": {},
   "outputs": [
    {
     "name": "stdout",
     "output_type": "stream",
     "text": [
      "['toto']\n"
     ]
    }
   ],
   "source": [
    "inutile()"
   ]
  },
  {
   "cell_type": "code",
   "execution_count": 31,
   "id": "f5dc112e",
   "metadata": {},
   "outputs": [
    {
     "name": "stdout",
     "output_type": "stream",
     "text": [
      "['toto', 'toto']\n"
     ]
    }
   ],
   "source": [
    "inutile()"
   ]
  },
  {
   "cell_type": "code",
   "execution_count": 32,
   "id": "44ffe14d",
   "metadata": {},
   "outputs": [
    {
     "name": "stdout",
     "output_type": "stream",
     "text": [
      "['toto']\n"
     ]
    }
   ],
   "source": [
    "inutile_vide_a_chaque_fois()"
   ]
  },
  {
   "cell_type": "code",
   "execution_count": 33,
   "id": "47321af9",
   "metadata": {},
   "outputs": [
    {
     "name": "stdout",
     "output_type": "stream",
     "text": [
      "['toto']\n"
     ]
    }
   ],
   "source": [
    "inutile_vide_a_chaque_fois()"
   ]
  },
  {
   "cell_type": "code",
   "execution_count": 35,
   "id": "56775098",
   "metadata": {},
   "outputs": [
    {
     "name": "stdout",
     "output_type": "stream",
     "text": [
      "6\n",
      "8\n"
     ]
    }
   ],
   "source": [
    "def ma_fonction(nombre):\n",
    "    return nombre * 2 \n",
    "\n",
    "print(ma_fonction(3))\n",
    "\n",
    "####################\n",
    "\n",
    "ma_fonction_lambda = lambda nombre: nombre * 2\n",
    "print(ma_fonction_lambda(4))"
   ]
  },
  {
   "cell_type": "code",
   "execution_count": 46,
   "id": "44771bb8",
   "metadata": {},
   "outputs": [
    {
     "data": {
      "text/plain": [
       "[('Project', 1),\n",
       " ('Gutenberg’s', 1),\n",
       " ('Alice’s', 1),\n",
       " ('Adventures', 1),\n",
       " ('in', 1),\n",
       " ('Wonderland', 1),\n",
       " ('Project', 1),\n",
       " ('Gutenberg’s', 1),\n",
       " ('Adventures', 1),\n",
       " ('in', 1),\n",
       " ('Wonderland', 1),\n",
       " ('Project', 1),\n",
       " ('Gutenberg’s', 1)]"
      ]
     },
     "execution_count": 46,
     "metadata": {},
     "output_type": "execute_result"
    }
   ],
   "source": [
    "data = [\"Project\",\"Gutenberg’s\",\"Alice’s\",\"Adventures\",\n",
    "\"in\",\"Wonderland\",\"Project\",\"Gutenberg’s\",\"Adventures\",\n",
    "\"in\",\"Wonderland\",\"Project\",\"Gutenberg’s\"]\n",
    "list(map(lambda x: (x,1), data))\n",
    "\n"
   ]
  },
  {
   "cell_type": "code",
   "execution_count": 44,
   "id": "5f0b80d5",
   "metadata": {},
   "outputs": [
    {
     "name": "stdout",
     "output_type": "stream",
     "text": [
      "[('Project', 1), ('Gutenberg’s', 1), ('Alice’s', 1), ('Adventures', 1), ('in', 1), ('Wonderland', 1), ('Project', 1), ('Gutenberg’s', 1), ('Adventures', 1), ('in', 1), ('Wonderland', 1), ('Project', 1), ('Gutenberg’s', 1)]\n"
     ]
    }
   ],
   "source": [
    "def fonction_a_appliquer(x):\n",
    "    return (x,1)\n",
    "\n",
    "res = []\n",
    "for e in data:\n",
    "    res.append(fonction_a_appliquer(e))\n",
    "\n",
    "print(res)"
   ]
  },
  {
   "cell_type": "code",
   "execution_count": 47,
   "id": "e43acc3a",
   "metadata": {},
   "outputs": [],
   "source": [
    "[(x, 1) for x in data]  # list comprehension\n",
    "######\n",
    "res = []\n",
    "for x in data:\n",
    "    res.append((x, 1))"
   ]
  },
  {
   "cell_type": "code",
   "execution_count": 51,
   "id": "05080ffa",
   "metadata": {},
   "outputs": [
    {
     "data": {
      "text/plain": [
       "2"
      ]
     },
     "execution_count": 51,
     "metadata": {},
     "output_type": "execute_result"
    }
   ],
   "source": [
    "def ma_nouvelle_fonction():\n",
    "    return ma_nouvelle_fonction_autre()\n",
    "\n",
    "def ma_nouvelle_fonction_autre():\n",
    "    return 3\n",
    "\n",
    "ma_nouvelle_fonction()"
   ]
  },
  {
   "cell_type": "markdown",
   "id": "bbe00c63",
   "metadata": {},
   "source": [
    "# Types de données en Python"
   ]
  },
  {
   "cell_type": "markdown",
   "id": "dea053e1",
   "metadata": {},
   "source": [
    "## Listes"
   ]
  },
  {
   "cell_type": "code",
   "execution_count": 53,
   "id": "3a101ec4",
   "metadata": {},
   "outputs": [
    {
     "name": "stdout",
     "output_type": "stream",
     "text": [
      "[1, 2, 3, 4]\n",
      "[2, 3, 4]\n",
      "3\n"
     ]
    }
   ],
   "source": [
    "ma_liste = [1, 2, 3]\n",
    "ma_liste.append(4)\n",
    "print(ma_liste)\n",
    "ma_liste.pop(0)\n",
    "print(ma_liste)\n",
    "print(len(ma_liste))"
   ]
  },
  {
   "cell_type": "code",
   "execution_count": 60,
   "id": "9f307abf",
   "metadata": {},
   "outputs": [
    {
     "name": "stdout",
     "output_type": "stream",
     "text": [
      "[1, 'riri', 3, [1, [2], 3, (1, 2, 3)]]\n",
      "[1, 2, 3, [1, [2], 3, (1, 2, 3)]]\n"
     ]
    }
   ],
   "source": [
    "ma_liste = [1, \"riri\", 3, [1, [2], 3, (1, 2, 3)]]\n",
    "print(ma_liste)\n",
    "ma_liste[1] = 2\n",
    "print(ma_liste)"
   ]
  },
  {
   "cell_type": "markdown",
   "id": "0d322a01",
   "metadata": {},
   "source": [
    "## Tuples"
   ]
  },
  {
   "cell_type": "code",
   "execution_count": 62,
   "id": "72b65374",
   "metadata": {},
   "outputs": [
    {
     "name": "stdout",
     "output_type": "stream",
     "text": [
      "<class 'tuple'>\n",
      "(1, 2, [3, 2], (2, 432))\n"
     ]
    }
   ],
   "source": [
    "mon_tuple = (1, 2, [3, 2], (2, 432))\n",
    "print(type(mon_tuple))\n",
    "print(mon_tuple)"
   ]
  },
  {
   "cell_type": "code",
   "execution_count": 57,
   "id": "f25428fb",
   "metadata": {},
   "outputs": [
    {
     "ename": "AttributeError",
     "evalue": "'tuple' object has no attribute 'append'",
     "output_type": "error",
     "traceback": [
      "\u001b[0;31m---------------------------------------------------------------------------\u001b[0m",
      "\u001b[0;31mAttributeError\u001b[0m                            Traceback (most recent call last)",
      "Cell \u001b[0;32mIn [57], line 1\u001b[0m\n\u001b[0;32m----> 1\u001b[0m mon_tuple\u001b[38;5;241m.\u001b[39mappend(\u001b[38;5;241m3\u001b[39m)\n",
      "\u001b[0;31mAttributeError\u001b[0m: 'tuple' object has no attribute 'append'"
     ]
    }
   ],
   "source": [
    "mon_tuple.append(3)"
   ]
  },
  {
   "cell_type": "code",
   "execution_count": 64,
   "id": "dfffd8dc",
   "metadata": {},
   "outputs": [
    {
     "ename": "TypeError",
     "evalue": "'tuple' object does not support item assignment",
     "output_type": "error",
     "traceback": [
      "\u001b[0;31m---------------------------------------------------------------------------\u001b[0m",
      "\u001b[0;31mTypeError\u001b[0m                                 Traceback (most recent call last)",
      "Cell \u001b[0;32mIn [64], line 1\u001b[0m\n\u001b[0;32m----> 1\u001b[0m mon_tuple[\u001b[38;5;241m2\u001b[39m] \u001b[38;5;241m=\u001b[39m \u001b[38;5;241m3\u001b[39m\n",
      "\u001b[0;31mTypeError\u001b[0m: 'tuple' object does not support item assignment"
     ]
    }
   ],
   "source": [
    "mon_tuple[2] = 3"
   ]
  },
  {
   "cell_type": "markdown",
   "id": "9eba4251",
   "metadata": {},
   "source": [
    "## Dictionnaires"
   ]
  },
  {
   "cell_type": "code",
   "execution_count": 75,
   "id": "2201e84f",
   "metadata": {},
   "outputs": [
    {
     "name": "stdout",
     "output_type": "stream",
     "text": [
      "{'Matthieu': '07xxxxx', 'Antoine': '07xxxxxxx', 'Nicolas': ['06xxxxxx', '06xxxxxxx2'], 1: [1, 2, 3]}\n"
     ]
    }
   ],
   "source": [
    "mon_dict = {\"Matthieu\": \"06xxxxxx\", \"Antoine\": \"07xxxxxxx\"}\n",
    "mon_dict[\"Nicolas\"] = [\"06xxxxxx\", \"06xxxxxxx2\"]\n",
    "mon_dict[\"Matthieu\"] = \"07xxxxx\"\n",
    "mon_dict[1] = [1, 2, 3]\n",
    "print(mon_dict)\n",
    "#mon_dict[\"Mathieu\"]"
   ]
  },
  {
   "cell_type": "code",
   "execution_count": 71,
   "id": "bf406d9f",
   "metadata": {},
   "outputs": [
    {
     "data": {
      "text/plain": [
       "[1, 2, 3]"
      ]
     },
     "execution_count": 71,
     "metadata": {},
     "output_type": "execute_result"
    }
   ],
   "source": [
    "mon_dict[1]"
   ]
  },
  {
   "cell_type": "code",
   "execution_count": 73,
   "id": "6d3e9e27",
   "metadata": {},
   "outputs": [
    {
     "name": "stdout",
     "output_type": "stream",
     "text": [
      "{'Matthieu': '07xxxxx', 'Antoine': '07xxxxxxx', 'Nicolas': '06xxxxxx', 1: [1, 2, 3], (1, 2, 3): 4}\n"
     ]
    }
   ],
   "source": [
    "mon_dict[(1, 2, 3)] = 4\n",
    "print(mon_dict)"
   ]
  },
  {
   "cell_type": "code",
   "execution_count": 74,
   "id": "5ef4a7ee",
   "metadata": {},
   "outputs": [
    {
     "ename": "TypeError",
     "evalue": "unhashable type: 'list'",
     "output_type": "error",
     "traceback": [
      "\u001b[0;31m---------------------------------------------------------------------------\u001b[0m",
      "\u001b[0;31mTypeError\u001b[0m                                 Traceback (most recent call last)",
      "Cell \u001b[0;32mIn [74], line 1\u001b[0m\n\u001b[0;32m----> 1\u001b[0m mon_dict[[\u001b[38;5;241m1\u001b[39m, \u001b[38;5;241m2\u001b[39m, \u001b[38;5;241m3\u001b[39m]] \u001b[38;5;241m=\u001b[39m \u001b[38;5;241m4\u001b[39m\n\u001b[1;32m      2\u001b[0m \u001b[38;5;28mprint\u001b[39m(mon_dict)\n",
      "\u001b[0;31mTypeError\u001b[0m: unhashable type: 'list'"
     ]
    }
   ],
   "source": [
    "mon_dict[[1, 2, 3]] = 4\n",
    "print(mon_dict)"
   ]
  },
  {
   "cell_type": "code",
   "execution_count": 88,
   "id": "6abe7a53",
   "metadata": {},
   "outputs": [
    {
     "name": "stdout",
     "output_type": "stream",
     "text": [
      "La lettre C apparait 1 fois\n",
      "La lettre a apparait 5 fois\n",
      "La lettre n apparait 3 fois\n",
      "La lettre d apparait 3 fois\n",
      "La lettre i apparait 2 fois\n",
      "La lettre t apparait 4 fois\n",
      "La lettre u apparait 2 fois\n",
      "La lettre r apparait 1 fois\n",
      "La lettre e apparait 6 fois\n",
      "La lettre   apparait 4 fois\n",
      "La lettre s apparait 1 fois\n",
      "La lettre p apparait 1 fois\n",
      "La lettre o apparait 1 fois\n",
      "La lettre M apparait 1 fois\n",
      "La lettre h apparait 1 fois\n",
      "La lettre F apparait 1 fois\n",
      "La lettre l apparait 1 fois\n",
      "La lettre c apparait 1 fois\n",
      "****\n",
      "La lettre C apparait 1 fois\n",
      "La lettre a apparait 5 fois\n",
      "La lettre n apparait 3 fois\n",
      "La lettre d apparait 3 fois\n",
      "La lettre i apparait 2 fois\n",
      "La lettre t apparait 4 fois\n",
      "La lettre u apparait 2 fois\n",
      "La lettre r apparait 1 fois\n",
      "La lettre e apparait 6 fois\n",
      "La lettre   apparait 4 fois\n",
      "La lettre s apparait 1 fois\n",
      "La lettre p apparait 1 fois\n",
      "La lettre o apparait 1 fois\n",
      "La lettre M apparait 1 fois\n",
      "La lettre h apparait 1 fois\n",
      "La lettre F apparait 1 fois\n",
      "La lettre l apparait 1 fois\n",
      "La lettre c apparait 1 fois\n"
     ]
    }
   ],
   "source": [
    "sujet = \"Candidature spontanee de Matthieu Falce\"\n",
    "# vous devez écrire une fonction qui retourne compte chacune \n",
    "# des lettre présentes dans sujet (a apparait N fois, d apparait K fois...)\n",
    "\n",
    "def lettre_unique(texte):\n",
    "    res = \"\"\n",
    "    for letter in texte:\n",
    "        if letter not in res:\n",
    "            res += letter\n",
    "    return res\n",
    "            \n",
    "def solution_avec_count(sujet):\n",
    "    res = []\n",
    "    for letter in lettre_unique(sujet):\n",
    "        res.append((letter, sujet.count(letter)))\n",
    "    return res\n",
    "\n",
    "def solution_avec_dict(sujet):\n",
    "    res = {}\n",
    "    for letter in sujet:\n",
    "        # print(res)\n",
    "        if letter in res:\n",
    "            res[letter] = res[letter] + 1\n",
    "        else:\n",
    "            res[letter] = 1\n",
    "    return res\n",
    "\n",
    "compteur = solution_avec_dict(sujet)\n",
    "for key in compteur:\n",
    "    print(f'La lettre {key} apparait {compteur[key]} fois')\n",
    "\n",
    "print(\"****\")\n",
    "    \n",
    "for key, valeur in compteur.items():\n",
    "    print(f'La lettre {key} apparait {valeur} fois')"
   ]
  },
  {
   "cell_type": "code",
   "execution_count": 84,
   "id": "26506de0",
   "metadata": {},
   "outputs": [
    {
     "data": {
      "text/plain": [
       "5"
      ]
     },
     "execution_count": 84,
     "metadata": {},
     "output_type": "execute_result"
    }
   ],
   "source": [
    "sujet.count(\"a\")"
   ]
  },
  {
   "cell_type": "code",
   "execution_count": 82,
   "id": "c7a362ea",
   "metadata": {},
   "outputs": [],
   "source": [
    "# complexite constante o(1)\n",
    "# complexité linéaire o(n)\n",
    "# complexité polynomiale o(n**3)"
   ]
  },
  {
   "cell_type": "code",
   "execution_count": 89,
   "id": "87b6b582",
   "metadata": {},
   "outputs": [
    {
     "data": {
      "text/plain": [
       "dict_keys(['C', 'a', 'n', 'd', 'i', 't', 'u', 'r', 'e', ' ', 's', 'p', 'o', 'M', 'h', 'F', 'l', 'c'])"
      ]
     },
     "execution_count": 89,
     "metadata": {},
     "output_type": "execute_result"
    }
   ],
   "source": [
    "compteur.keys()"
   ]
  },
  {
   "cell_type": "code",
   "execution_count": 90,
   "id": "ae052e27",
   "metadata": {},
   "outputs": [
    {
     "data": {
      "text/plain": [
       "dict_values([1, 5, 3, 3, 2, 4, 2, 1, 6, 4, 1, 1, 1, 1, 1, 1, 1, 1])"
      ]
     },
     "execution_count": 90,
     "metadata": {},
     "output_type": "execute_result"
    }
   ],
   "source": [
    "compteur.values()"
   ]
  },
  {
   "cell_type": "code",
   "execution_count": 91,
   "id": "400a6640",
   "metadata": {},
   "outputs": [
    {
     "data": {
      "text/plain": [
       "dict_items([('C', 1), ('a', 5), ('n', 3), ('d', 3), ('i', 2), ('t', 4), ('u', 2), ('r', 1), ('e', 6), (' ', 4), ('s', 1), ('p', 1), ('o', 1), ('M', 1), ('h', 1), ('F', 1), ('l', 1), ('c', 1)])"
      ]
     },
     "execution_count": 91,
     "metadata": {},
     "output_type": "execute_result"
    }
   ],
   "source": [
    "compteur.items()"
   ]
  },
  {
   "cell_type": "code",
   "execution_count": 97,
   "id": "523e8c90",
   "metadata": {},
   "outputs": [
    {
     "name": "stdout",
     "output_type": "stream",
     "text": [
      "Chuck Norris has to visit the dentist twice a month in order to remove the jawbreakers stuck between his teeth.\n",
      "Chuck Norris has to visit the dentist twice a month in order to remove the jawbreakers stuck between his teeth.\n",
      "Chuck Norris has to visit the dentist twice a month in order to remove the jawbreakers stuck between his teeth.\n",
      "Chuck Norris has to visit the dentist twice a month in order to remove the jawbreakers stuck between his teeth.\n",
      "Chuck Norris has to visit the dentist twice a month in order to remove the jawbreakers stuck between his teeth.\n",
      "Chuck Norris has to visit the dentist twice a month in order to remove the jawbreakers stuck between his teeth.\n",
      "Chuck Norris has to visit the dentist twice a month in order to remove the jawbreakers stuck between his teeth.\n",
      "Chuck Norris has to visit the dentist twice a month in order to remove the jawbreakers stuck between his teeth.\n",
      "Chuck Norris has to visit the dentist twice a month in order to remove the jawbreakers stuck between his teeth.\n",
      "Chuck Norris has to visit the dentist twice a month in order to remove the jawbreakers stuck between his teeth.\n"
     ]
    }
   ],
   "source": [
    "import requests\n",
    "\n",
    "for _ in range(10):\n",
    "    r = requests.get(\"https://run.mocky.io/v3/92595719-bc1b-451b-9207-0a3420fa32b8\")\n",
    "    print(r.json()[\"value\"])"
   ]
  },
  {
   "cell_type": "code",
   "execution_count": 104,
   "id": "75c77ec5",
   "metadata": {},
   "outputs": [
    {
     "name": "stdout",
     "output_type": "stream",
     "text": [
      "someone5678 sur le dépot someone5678/device_xiaomi_sweet\n",
      "joshghent sur le dépot joshghent/blog\n",
      "OleksandrBlack sur le dépot OleksandrBlack/ukita_installer\n",
      "infinite-persistence sur le dépot OdyseeTeam/odysee-frontend\n",
      "MarvinHatesOceans sur le dépot auto-maintainers/desktop\n",
      "dependabot sur le dépot wilfriedago/discord-vscode\n",
      "pelikhan sur le dépot microsoft/microcode\n",
      "sspalding sur le dépot sspalding/Dementia-Prediction\n",
      "Mustafa-Azad025 sur le dépot freeCodeCamp/Developer_Quiz_Site\n",
      "Filmy4waphindi sur le dépot Filmy4waphindi/6aug\n",
      "sponglord sur le dépot Adyen/adyen-web\n",
      "JPhilipp sur le dépot atteneder/glTFast\n",
      "barttec sur le dépot barttec/bart.tecc\n",
      "oliviaqm sur le dépot oliviaqm/loan-eligibility-classification-ml-ops\n",
      "emanuele-mincato sur le dépot emanuele-mincato/SQL_exercises\n",
      "roboadhoc sur le dépot axadoo/mercadopago\n",
      "ariyan103 sur le dépot ariyan103/EsportServer\n",
      "tizenmile sur le dépot dmytrik/filmoteka-js\n",
      "elieguitton sur le dépot elieguitton/named-entity-recognition\n",
      "Lcastro98 sur le dépot Lcastro98/rick-and-morty\n",
      "Izabela88 sur le dépot Izabela88/recipe-app-api\n",
      "renovate sur le dépot taskforcesh/bullmq\n",
      "surovjeniya sur le dépot surovjeniya/frontend\n",
      "rgmiller sur le dépot LLNL/UnifyFS\n",
      "github-actions sur le dépot microsoftgraph/microsoft-graph-docs\n",
      "dependabot sur le dépot mrjonstrong/hbfl\n",
      "Rello sur le dépot Rello/audioplayer\n",
      "Kuttecraft sur le dépot Kuttecraft/Marlin_Kuttercraft_Fimware_32Bits\n",
      "quangdb-indigames sur le dépot indigames/LiveBreeder\n",
      "krest32 sur le dépot krest32/Java-Doc-Web\n"
     ]
    }
   ],
   "source": [
    "r = requests.get('https://api.github.com/events')\n",
    "for event in r.json():\n",
    "    print(f'{event[\"actor\"][\"display_login\"]} sur le dépot {event[\"repo\"][\"name\"]}')"
   ]
  },
  {
   "cell_type": "code",
   "execution_count": 108,
   "id": "62a19342",
   "metadata": {},
   "outputs": [
    {
     "data": {
      "text/plain": [
       "'a\\tb\\tc\\td'"
      ]
     },
     "execution_count": 108,
     "metadata": {},
     "output_type": "execute_result"
    }
   ],
   "source": [
    "d = (\"a\", \"b\", \"c\", \"d\") # => \"a,b\"\n",
    "\"\\t\".join(d)"
   ]
  },
  {
   "cell_type": "code",
   "execution_count": 128,
   "id": "fcbb2bf8",
   "metadata": {},
   "outputs": [
    {
     "name": "stdout",
     "output_type": "stream",
     "text": [
      "a\n",
      "c\n",
      "b\n"
     ]
    }
   ],
   "source": [
    "def lettre_unique(texte):\n",
    "    res = \"\"\n",
    "    for letter in texte:\n",
    "        if letter not in res:\n",
    "            res += letter\n",
    "            yield letter\n",
    "\n",
    "for lettre in lettre_unique(\"aabca\"):\n",
    "    print(lettre)"
   ]
  },
  {
   "cell_type": "code",
   "execution_count": 120,
   "id": "fc8401cd",
   "metadata": {},
   "outputs": [
    {
     "name": "stdout",
     "output_type": "stream",
     "text": [
      "a\n"
     ]
    }
   ],
   "source": [
    "iterable = lettre_unique(\"abc\")\n",
    "print(next(iterable))\n"
   ]
  },
  {
   "cell_type": "code",
   "execution_count": 121,
   "id": "507486a3",
   "metadata": {},
   "outputs": [
    {
     "name": "stdout",
     "output_type": "stream",
     "text": [
      "b\n"
     ]
    }
   ],
   "source": [
    "print(next(iterable))"
   ]
  },
  {
   "cell_type": "code",
   "execution_count": 122,
   "id": "94326318",
   "metadata": {},
   "outputs": [
    {
     "name": "stdout",
     "output_type": "stream",
     "text": [
      "c\n"
     ]
    }
   ],
   "source": [
    "print(next(iterable))"
   ]
  },
  {
   "cell_type": "code",
   "execution_count": 123,
   "id": "c6e9126f",
   "metadata": {},
   "outputs": [
    {
     "ename": "StopIteration",
     "evalue": "",
     "output_type": "error",
     "traceback": [
      "\u001b[0;31m---------------------------------------------------------------------------\u001b[0m",
      "\u001b[0;31mStopIteration\u001b[0m                             Traceback (most recent call last)",
      "Cell \u001b[0;32mIn [123], line 1\u001b[0m\n\u001b[0;32m----> 1\u001b[0m \u001b[38;5;28mprint\u001b[39m(\u001b[38;5;28mnext\u001b[39m(iterable))\n",
      "\u001b[0;31mStopIteration\u001b[0m: "
     ]
    }
   ],
   "source": [
    "print(next(iterable))"
   ]
  },
  {
   "cell_type": "code",
   "execution_count": 142,
   "id": "248add7f",
   "metadata": {},
   "outputs": [
    {
     "name": "stdout",
     "output_type": "stream",
     "text": [
      "{1, 2, 3, ('riri', 'fifi', 'loulou')}\n"
     ]
    }
   ],
   "source": [
    "my_set = set([3, 1, 1, 2, 3, (\"riri\", \"fifi\", \"loulou\")])\n",
    "print(my_set)"
   ]
  },
  {
   "cell_type": "code",
   "execution_count": 138,
   "id": "4a48f8a1",
   "metadata": {},
   "outputs": [],
   "source": [
    "homme = set([\"bipede\", \"mamifere\", \"etre vivant\", \"omnivore\"])\n",
    "reptile = set([\"4 pattes\", \"etre vivant\", \"omnivore\"])\n",
    "chien = set([\"4 pattes\", \"mamifere\", \"etre vivant\", \"fourure\"])"
   ]
  },
  {
   "cell_type": "code",
   "execution_count": 139,
   "id": "81e364c3",
   "metadata": {},
   "outputs": [
    {
     "data": {
      "text/plain": [
       "{'bipede', 'mamifere'}"
      ]
     },
     "execution_count": 139,
     "metadata": {},
     "output_type": "execute_result"
    }
   ],
   "source": [
    "homme.difference(reptile)"
   ]
  },
  {
   "cell_type": "code",
   "execution_count": null,
   "id": "f499dc8e",
   "metadata": {},
   "outputs": [],
   "source": []
  }
 ],
 "metadata": {
  "kernelspec": {
   "display_name": "Python 3 (ipykernel)",
   "language": "python",
   "name": "python3"
  },
  "language_info": {
   "codemirror_mode": {
    "name": "ipython",
    "version": 3
   },
   "file_extension": ".py",
   "mimetype": "text/x-python",
   "name": "python",
   "nbconvert_exporter": "python",
   "pygments_lexer": "ipython3",
   "version": "3.9.9"
  }
 },
 "nbformat": 4,
 "nbformat_minor": 5
}
