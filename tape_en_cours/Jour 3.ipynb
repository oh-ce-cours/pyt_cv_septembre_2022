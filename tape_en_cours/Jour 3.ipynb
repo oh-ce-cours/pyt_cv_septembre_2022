{
 "cells": [
  {
   "cell_type": "code",
   "execution_count": 18,
   "id": "340f11a6",
   "metadata": {},
   "outputs": [],
   "source": [
    "f = open(\"toto2.txt\", \"w\")\n",
    "\n",
    "prenom = \"Matthieu\"\n",
    "f.write(f\"Bonjour, je suis {prenom}\\nEt je fais du python !\\n\")\n",
    "f.close()"
   ]
  },
  {
   "cell_type": "code",
   "execution_count": 19,
   "id": "65e2b928",
   "metadata": {},
   "outputs": [
    {
     "name": "stdout",
     "output_type": "stream",
     "text": [
      "['Bonjour, je suis Matthieu\\n', 'Et je fais du python !\\n']\n",
      "False\n",
      "True\n"
     ]
    }
   ],
   "source": [
    "with open(\"toto2.txt\") as f:\n",
    "    print(f.readlines())\n",
    "    print(f.closed)\n",
    "\n",
    "print(f.closed)"
   ]
  },
  {
   "cell_type": "code",
   "execution_count": 20,
   "id": "6038f7f6",
   "metadata": {},
   "outputs": [],
   "source": [
    "with open(\"toto2.txt\", \"w\") as f:\n",
    "    prenom = \"Matthieu\"\n",
    "    f.write(f\"Bonjour, je suis {prenom}\\nEt je fais du python !\\n\")"
   ]
  },
  {
   "cell_type": "code",
   "execution_count": 21,
   "id": "a932bf58",
   "metadata": {},
   "outputs": [
    {
     "name": "stdout",
     "output_type": "stream",
     "text": [
      "9\n"
     ]
    }
   ],
   "source": [
    "# les variables \"fuitent\" (leak) des blocs, \n",
    "# le seul bloc qui ne fuite pas, c'est les fonctions\n",
    "for i in range(10):\n",
    "    tototo = i \n",
    "\n",
    "print(tototo)"
   ]
  },
  {
   "cell_type": "code",
   "execution_count": 24,
   "id": "fc74222c",
   "metadata": {},
   "outputs": [
    {
     "name": "stdout",
     "output_type": "stream",
     "text": [
      "['Bonjour, je suis Matthieu\\n', 'Et je fais du python !\\n']\n",
      "['Bonjour, je suis Matthieu\\n', 'Et je fais du python !\\n', 'Bonjour, je suis Matthieu\\n', 'Et je fais du python !\\n', 'Bonjour, je suis Matthieu\\n', 'Et je fais du python !\\n', 'Bonjour, je suis Matthieu\\n', 'Et je fais du python !\\n']\n"
     ]
    }
   ],
   "source": [
    "with open(\"toto2.txt\") as f1, open(\"toto.txt\") as f2:\n",
    "    print(f1.readlines())\n",
    "    print(f2.readlines())"
   ]
  },
  {
   "cell_type": "code",
   "execution_count": 29,
   "id": "97775d55",
   "metadata": {},
   "outputs": [],
   "source": [
    "def inutile(p=[]):\n",
    "    p.append(\"toto\")\n",
    "    print(p)\n",
    "\n",
    "def inutile_vide_a_chaque_fois(p=None):\n",
    "    if p is None:\n",
    "        p = []\n",
    "    # p = p or []\n",
    "    p.append(\"toto\")\n",
    "    print(p)"
   ]
  },
  {
   "cell_type": "code",
   "execution_count": 30,
   "id": "f46d6a85",
   "metadata": {},
   "outputs": [
    {
     "name": "stdout",
     "output_type": "stream",
     "text": [
      "['toto']\n"
     ]
    }
   ],
   "source": [
    "inutile()"
   ]
  },
  {
   "cell_type": "code",
   "execution_count": 31,
   "id": "a8efcda6",
   "metadata": {},
   "outputs": [
    {
     "name": "stdout",
     "output_type": "stream",
     "text": [
      "['toto', 'toto']\n"
     ]
    }
   ],
   "source": [
    "inutile()"
   ]
  },
  {
   "cell_type": "code",
   "execution_count": 32,
   "id": "0832de4b",
   "metadata": {},
   "outputs": [
    {
     "name": "stdout",
     "output_type": "stream",
     "text": [
      "['toto']\n"
     ]
    }
   ],
   "source": [
    "inutile_vide_a_chaque_fois()"
   ]
  },
  {
   "cell_type": "code",
   "execution_count": 33,
   "id": "e8def4d4",
   "metadata": {},
   "outputs": [
    {
     "name": "stdout",
     "output_type": "stream",
     "text": [
      "['toto']\n"
     ]
    }
   ],
   "source": [
    "inutile_vide_a_chaque_fois()"
   ]
  },
  {
   "cell_type": "code",
   "execution_count": 35,
   "id": "8b9207b5",
   "metadata": {},
   "outputs": [
    {
     "name": "stdout",
     "output_type": "stream",
     "text": [
      "6\n",
      "8\n"
     ]
    }
   ],
   "source": [
    "def ma_fonction(nombre):\n",
    "    return nombre * 2 \n",
    "\n",
    "print(ma_fonction(3))\n",
    "\n",
    "####################\n",
    "\n",
    "ma_fonction_lambda = lambda nombre: nombre * 2\n",
    "print(ma_fonction_lambda(4))"
   ]
  },
  {
   "cell_type": "code",
   "execution_count": 46,
   "id": "8f6f2d79",
   "metadata": {},
   "outputs": [
    {
     "data": {
      "text/plain": [
       "[('Project', 1),\n",
       " ('Gutenberg’s', 1),\n",
       " ('Alice’s', 1),\n",
       " ('Adventures', 1),\n",
       " ('in', 1),\n",
       " ('Wonderland', 1),\n",
       " ('Project', 1),\n",
       " ('Gutenberg’s', 1),\n",
       " ('Adventures', 1),\n",
       " ('in', 1),\n",
       " ('Wonderland', 1),\n",
       " ('Project', 1),\n",
       " ('Gutenberg’s', 1)]"
      ]
     },
     "execution_count": 46,
     "metadata": {},
     "output_type": "execute_result"
    }
   ],
   "source": [
    "data = [\"Project\",\"Gutenberg’s\",\"Alice’s\",\"Adventures\",\n",
    "\"in\",\"Wonderland\",\"Project\",\"Gutenberg’s\",\"Adventures\",\n",
    "\"in\",\"Wonderland\",\"Project\",\"Gutenberg’s\"]\n",
    "list(map(lambda x: (x,1), data))\n",
    "\n"
   ]
  },
  {
   "cell_type": "code",
   "execution_count": 44,
   "id": "74caf684",
   "metadata": {},
   "outputs": [
    {
     "name": "stdout",
     "output_type": "stream",
     "text": [
      "[('Project', 1), ('Gutenberg’s', 1), ('Alice’s', 1), ('Adventures', 1), ('in', 1), ('Wonderland', 1), ('Project', 1), ('Gutenberg’s', 1), ('Adventures', 1), ('in', 1), ('Wonderland', 1), ('Project', 1), ('Gutenberg’s', 1)]\n"
     ]
    }
   ],
   "source": [
    "def fonction_a_appliquer(x):\n",
    "    return (x,1)\n",
    "\n",
    "res = []\n",
    "for e in data:\n",
    "    res.append(fonction_a_appliquer(e))\n",
    "\n",
    "print(res)"
   ]
  },
  {
   "cell_type": "code",
   "execution_count": 47,
   "id": "eab28242",
   "metadata": {},
   "outputs": [],
   "source": [
    "[(x, 1) for x in data]  # list comprehension\n",
    "######\n",
    "res = []\n",
    "for x in data:\n",
    "    res.append((x, 1))"
   ]
  },
  {
   "cell_type": "code",
   "execution_count": null,
   "id": "a4ce6d22",
   "metadata": {},
   "outputs": [],
   "source": []
  }
 ],
 "metadata": {
  "kernelspec": {
   "display_name": "Python 3 (ipykernel)",
   "language": "python",
   "name": "python3"
  },
  "language_info": {
   "codemirror_mode": {
    "name": "ipython",
    "version": 3
   },
   "file_extension": ".py",
   "mimetype": "text/x-python",
   "name": "python",
   "nbconvert_exporter": "python",
   "pygments_lexer": "ipython3",
   "version": "3.9.9"
  }
 },
 "nbformat": 4,
 "nbformat_minor": 5
}
