{
 "cells": [
  {
   "cell_type": "markdown",
   "id": "e6581861",
   "metadata": {},
   "source": [
    "# Manipuler un fichier"
   ]
  },
  {
   "cell_type": "code",
   "execution_count": 42,
   "id": "bf71d95f",
   "metadata": {},
   "outputs": [
    {
     "name": "stdout",
     "output_type": "stream",
     "text": [
      "## Solution 1\n",
      "# for nombre in range(1, 101):\n",
      "#     if nombre % 5 == 0 and nombre % 3 == 0:\n",
      "#         print(\"fizzbuzz\")\n",
      "#     elif nombre % 3 == 0:\n",
      "#         print(\"fizz\")\n",
      "#     elif nombre % 5 == 0:\n",
      "#         print(\"buzz\")\n",
      "#     else:\n",
      "#         print(nombre)\n",
      "\n",
      "## Solution 2 (sans les elif)\n",
      "# for nombre in range(1, 101):\n",
      "#     resultat = \"\"\n",
      "#     # \"fizzbuzz\" = \"fizz\" + \"buzz\"\n",
      "#     if nombre % 3 == 0:\n",
      "#         resultat = resultat + \"fizz\"\n",
      "#     if nombre % 5 == 0:\n",
      "#         resultat = resultat + \"buzz\"\n",
      "#     if resultat:\n",
      "#         resultat = str(nombre)\n",
      "#     print(resultat)\n",
      "\n",
      "## Solution 3 (sans les if)\n",
      "for nombre in range(1, 101):\n",
      "    gauche_plus = \"fizz\" * (nombre % 3 == 0)\n",
      "    droite_plus = \"buzz\" * (nombre % 5 == 0)\n",
      "    gauche = gauche_plus + droite_plus\n",
      "    droite = str(nombre)\n",
      "    print(gauche or droite)\n",
      "    # version en une ligne\n",
      "    # print(\"fizz\" * (nombre % 3 == 0) + \"buzz\" * (nombre % 5 == 0) or str(nombre))\n",
      "\n",
      "\n",
      "## Solution 4 avec match / case (python >= 3.10)\n",
      "# for nombre in range(1, 101):\n",
      "#     match (nombre % 3, nombre % 5):\n",
      "#         case (0, 0):\n",
      "#             print(\"fizzbuzz\")\n",
      "#         case (0, _):\n",
      "#             print(\"fizz\")\n",
      "#         case (_, 0):\n",
      "#             print(f\"buzz\")\n",
      "#         case _, _:\n",
      "#             print(nombre)\n"
     ]
    }
   ],
   "source": [
    "f = open(\"./fizzbuzz.py\", encoding=\"utf8\")\n",
    "\n",
    "lines = f.readlines()\n",
    "for line in lines:\n",
    "    line = line.rstrip()\n",
    "    # line = line.replace(\"\\n\", \"\")\n",
    "    # line = line[:-1]\n",
    "    print(line)\n",
    "    # pour enlever les doubles retours chariots, on peut\n",
    "    # * soit dire à print de ne pas en rajouter à la fin de ce qu'il affiche : print(line, end=\"\")\n",
    "    # * soit l'enlever dans la source (sur chaque ligne) : rstrip ou replace ou tout sauf le dernier char\n",
    "    \n",
    "#\n",
    "# for index in range(len(lines)):\n",
    "#    print(lines[index])\n",
    "    \n",
    "f.close()"
   ]
  },
  {
   "cell_type": "code",
   "execution_count": 3,
   "id": "1af00d5c",
   "metadata": {},
   "outputs": [
    {
     "name": "stdout",
     "output_type": "stream",
     "text": [
      "/home/mfalce/Bureau/pyt_cv_septembre_2022/tape_en_cours\n"
     ]
    }
   ],
   "source": [
    "# savoir d'où est lancé l'interpreteur\n",
    "import os \n",
    "print(os.getcwd())"
   ]
  },
  {
   "cell_type": "markdown",
   "id": "83ffe4d2",
   "metadata": {},
   "source": [
    "# Créer une fonction"
   ]
  },
  {
   "cell_type": "code",
   "execution_count": 21,
   "id": "eceb2aae",
   "metadata": {},
   "outputs": [
    {
     "name": "stdout",
     "output_type": "stream",
     "text": [
      "Bonjour, je suis Matthieu\n",
      "Bonjour, je suis Joël\n",
      "Bonjour, je suis 3\n"
     ]
    }
   ],
   "source": [
    "# création de la fonction\n",
    "def se_presenter(prenom:str):\n",
    "    return f\"Bonjour, je suis {prenom}\"\n",
    "############################\n",
    "# utilisation de la fonction\n",
    "presentation = se_presenter(\"Matthieu\")\n",
    "print(presentation)\n",
    "\n",
    "presentation = se_presenter(\"Joël\")\n",
    "print(presentation)\n",
    "\n",
    "presentation = se_presenter(3)\n",
    "print(presentation)"
   ]
  },
  {
   "cell_type": "code",
   "execution_count": 36,
   "id": "40d5951e",
   "metadata": {},
   "outputs": [
    {
     "name": "stdout",
     "output_type": "stream",
     "text": [
      "Help on built-in function lstrip:\n",
      "\n",
      "lstrip(chars=None, /) method of builtins.str instance\n",
      "    Return a copy of the string with leading whitespace removed.\n",
      "    \n",
      "    If chars is given and not None, remove characters in chars instead.\n",
      "\n"
     ]
    }
   ],
   "source": [
    "help(\"\".lstrip)"
   ]
  },
  {
   "cell_type": "code",
   "execution_count": 43,
   "id": "e26f6c8b",
   "metadata": {},
   "outputs": [
    {
     "name": "stdout",
     "output_type": "stream",
     "text": [
      "Help on built-in function readlines:\n",
      "\n",
      "readlines(hint=-1, /) method of _io.TextIOWrapper instance\n",
      "    Return a list of lines from the stream.\n",
      "    \n",
      "    hint can be specified to control the number of lines read: no more\n",
      "    lines will be read if the total size (in bytes/characters) of all\n",
      "    lines so far exceeds hint.\n",
      "\n"
     ]
    }
   ],
   "source": [
    "help(f.readlines)"
   ]
  },
  {
   "cell_type": "code",
   "execution_count": 54,
   "id": "09d59a3c",
   "metadata": {},
   "outputs": [
    {
     "data": {
      "text/plain": [
       "['a', 'b', 'c', 'd', 'e']"
      ]
     },
     "execution_count": 54,
     "metadata": {},
     "output_type": "execute_result"
    }
   ],
   "source": [
    "lines = [\"a\", \"b\", \"c\", \"d\", \"e\", \"f\"]\n",
    "lines[:5]"
   ]
  },
  {
   "cell_type": "code",
   "execution_count": 52,
   "id": "bb762805",
   "metadata": {},
   "outputs": [
    {
     "data": {
      "text/plain": [
       "['e', 'f']"
      ]
     },
     "execution_count": 52,
     "metadata": {},
     "output_type": "execute_result"
    }
   ],
   "source": [
    "lines = [\"a\", \"b\", \"c\", \"d\", \"e\", \"f\"]\n",
    "lines[-2:]"
   ]
  },
  {
   "cell_type": "code",
   "execution_count": 55,
   "id": "5a80e6b1",
   "metadata": {},
   "outputs": [
    {
     "name": "stdout",
     "output_type": "stream",
     "text": [
      "Help on built-in function print in module builtins:\n",
      "\n",
      "print(...)\n",
      "    print(value, ..., sep=' ', end='\\n', file=sys.stdout, flush=False)\n",
      "    \n",
      "    Prints the values to a stream, or to sys.stdout by default.\n",
      "    Optional keyword arguments:\n",
      "    file:  a file-like object (stream); defaults to the current sys.stdout.\n",
      "    sep:   string inserted between values, default a space.\n",
      "    end:   string appended after the last value, default a newline.\n",
      "    flush: whether to forcibly flush the stream.\n",
      "\n"
     ]
    }
   ],
   "source": [
    "help(print)"
   ]
  },
  {
   "cell_type": "code",
   "execution_count": 68,
   "id": "d95b1ada",
   "metadata": {},
   "outputs": [
    {
     "ename": "TypeError",
     "evalue": "can only concatenate list (not \"str\") to list",
     "output_type": "error",
     "traceback": [
      "\u001b[0;31m---------------------------------------------------------------------------\u001b[0m",
      "\u001b[0;31mTypeError\u001b[0m                                 Traceback (most recent call last)",
      "Cell \u001b[0;32mIn [68], line 4\u001b[0m\n\u001b[1;32m      1\u001b[0m \u001b[38;5;28;01mdef\u001b[39;00m \u001b[38;5;21minutile\u001b[39m(a, b, c):\n\u001b[1;32m      2\u001b[0m     \u001b[38;5;28mprint\u001b[39m(a \u001b[38;5;241m+\u001b[39m b \u001b[38;5;241m+\u001b[39m c)\n\u001b[0;32m----> 4\u001b[0m inutile(c\u001b[38;5;241m=\u001b[39m\u001b[38;5;241m1\u001b[39m, b\u001b[38;5;241m=\u001b[39m\u001b[38;5;124m\"\u001b[39m\u001b[38;5;124m\"\u001b[39m, a\u001b[38;5;241m=\u001b[39m[])\n",
      "Cell \u001b[0;32mIn [68], line 2\u001b[0m, in \u001b[0;36minutile\u001b[0;34m(a, b, c)\u001b[0m\n\u001b[1;32m      1\u001b[0m \u001b[38;5;28;01mdef\u001b[39;00m \u001b[38;5;21minutile\u001b[39m(a, b, c):\n\u001b[0;32m----> 2\u001b[0m     \u001b[38;5;28mprint\u001b[39m(\u001b[43ma\u001b[49m\u001b[43m \u001b[49m\u001b[38;5;241;43m+\u001b[39;49m\u001b[43m \u001b[49m\u001b[43mb\u001b[49m \u001b[38;5;241m+\u001b[39m c)\n",
      "\u001b[0;31mTypeError\u001b[0m: can only concatenate list (not \"str\") to list"
     ]
    }
   ],
   "source": [
    "def inutile(a, b, c):\n",
    "    print(a + b + c)\n",
    "\n",
    "inutile()"
   ]
  },
  {
   "cell_type": "code",
   "execution_count": null,
   "id": "9d4d8746",
   "metadata": {},
   "outputs": [],
   "source": []
  }
 ],
 "metadata": {
  "kernelspec": {
   "display_name": "Python 3 (ipykernel)",
   "language": "python",
   "name": "python3"
  },
  "language_info": {
   "codemirror_mode": {
    "name": "ipython",
    "version": 3
   },
   "file_extension": ".py",
   "mimetype": "text/x-python",
   "name": "python",
   "nbconvert_exporter": "python",
   "pygments_lexer": "ipython3",
   "version": "3.9.9"
  }
 },
 "nbformat": 4,
 "nbformat_minor": 5
}
