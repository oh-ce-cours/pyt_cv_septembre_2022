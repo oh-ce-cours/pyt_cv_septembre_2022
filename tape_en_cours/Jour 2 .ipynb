{
 "cells": [
  {
   "cell_type": "markdown",
   "id": "6b28b6b7",
   "metadata": {},
   "source": [
    "# Manipuler un fichier"
   ]
  },
  {
   "cell_type": "code",
   "execution_count": 8,
   "id": "ce28f0e7",
   "metadata": {},
   "outputs": [
    {
     "name": "stdout",
     "output_type": "stream",
     "text": [
      "['## Solution 1\\n', '# for nombre in range(1, 101):\\n', '#     if nombre % 5 == 0 and nombre % 3 == 0:\\n', '#         print(\"fizzbuzz\")\\n', '#     elif nombre % 3 == 0:\\n', '#         print(\"fizz\")\\n', '#     elif nombre % 5 == 0:\\n', '#         print(\"buzz\")\\n', '#     else:\\n', '#         print(nombre)\\n', '\\n', '## Solution 2 (sans les elif)\\n', '# for nombre in range(1, 101):\\n', '#     resultat = \"\"\\n', '#     # \"fizzbuzz\" = \"fizz\" + \"buzz\"\\n', '#     if nombre % 3 == 0:\\n', '#         resultat = resultat + \"fizz\"\\n', '#     if nombre % 5 == 0:\\n', '#         resultat = resultat + \"buzz\"\\n', '#     if resultat:\\n', '#         resultat = str(nombre)\\n', '#     print(resultat)\\n', '\\n', '## Solution 3 (sans les if)\\n', 'for nombre in range(1, 101):\\n', '    gauche_plus = \"fizz\" * (nombre % 3 == 0)\\n', '    droite_plus = \"buzz\" * (nombre % 5 == 0)\\n', '    gauche = gauche_plus + droite_plus\\n', '    droite = str(nombre)\\n', '    print(gauche or droite)\\n', '    # version en une ligne\\n', '    # print(\"fizz\" * (nombre % 3 == 0) + \"buzz\" * (nombre % 5 == 0) or str(nombre))\\n']\n"
     ]
    }
   ],
   "source": [
    "f = open(\"./fizzbuzz.py\", encoding=\"utf8\")\n",
    "lines = f.readlines()\n",
    "f.close()\n",
    "print(lines)"
   ]
  },
  {
   "cell_type": "code",
   "execution_count": 3,
   "id": "6ddb2dc4",
   "metadata": {},
   "outputs": [
    {
     "name": "stdout",
     "output_type": "stream",
     "text": [
      "/home/mfalce/Bureau/pyt_cv_septembre_2022/tape_en_cours\n"
     ]
    }
   ],
   "source": [
    "# savoir d'où est lancé l'interpreteur\n",
    "import os \n",
    "print(os.getcwd())"
   ]
  },
  {
   "cell_type": "markdown",
   "id": "2bdfe8b8",
   "metadata": {},
   "source": [
    "# Créer une fonction"
   ]
  },
  {
   "cell_type": "code",
   "execution_count": null,
   "id": "1695dd75",
   "metadata": {},
   "outputs": [],
   "source": []
  },
  {
   "cell_type": "code",
   "execution_count": null,
   "id": "5ff7ca60",
   "metadata": {},
   "outputs": [],
   "source": []
  }
 ],
 "metadata": {
  "kernelspec": {
   "display_name": "Python 3 (ipykernel)",
   "language": "python",
   "name": "python3"
  },
  "language_info": {
   "codemirror_mode": {
    "name": "ipython",
    "version": 3
   },
   "file_extension": ".py",
   "mimetype": "text/x-python",
   "name": "python",
   "nbconvert_exporter": "python",
   "pygments_lexer": "ipython3",
   "version": "3.9.9"
  }
 },
 "nbformat": 4,
 "nbformat_minor": 5
}
