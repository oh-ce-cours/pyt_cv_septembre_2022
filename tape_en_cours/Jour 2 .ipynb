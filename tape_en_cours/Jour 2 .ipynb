{
 "cells": [
  {
   "cell_type": "markdown",
   "id": "3573b20a",
   "metadata": {},
   "source": [
    "# Manipuler un fichier"
   ]
  },
  {
   "cell_type": "code",
   "execution_count": 32,
   "id": "5ab671ac",
   "metadata": {},
   "outputs": [
    {
     "name": "stdout",
     "output_type": "stream",
     "text": [
      "## Solution 1\n",
      "\n",
      "# for nombre in range(1, 101):\n",
      "\n",
      "#     if nombre % 5 == 0 and nombre % 3 == 0:\n",
      "\n",
      "#         print(\"fizzbuzz\")\n",
      "\n",
      "#     elif nombre % 3 == 0:\n",
      "\n",
      "#         print(\"fizz\")\n",
      "\n",
      "#     elif nombre % 5 == 0:\n",
      "\n",
      "#         print(\"buzz\")\n",
      "\n",
      "#     else:\n",
      "\n",
      "#         print(nombre)\n",
      "\n",
      "\n",
      "\n",
      "## Solution 2 (sans les elif)\n",
      "\n",
      "# for nombre in range(1, 101):\n",
      "\n",
      "#     resultat = \"\"\n",
      "\n",
      "#     # \"fizzbuzz\" = \"fizz\" + \"buzz\"\n",
      "\n",
      "#     if nombre % 3 == 0:\n",
      "\n",
      "#         resultat = resultat + \"fizz\"\n",
      "\n",
      "#     if nombre % 5 == 0:\n",
      "\n",
      "#         resultat = resultat + \"buzz\"\n",
      "\n",
      "#     if resultat:\n",
      "\n",
      "#         resultat = str(nombre)\n",
      "\n",
      "#     print(resultat)\n",
      "\n",
      "\n",
      "\n",
      "## Solution 3 (sans les if)\n",
      "\n",
      "for nombre in range(1, 101):\n",
      "\n",
      "    gauche_plus = \"fizz\" * (nombre % 3 == 0)\n",
      "\n",
      "    droite_plus = \"buzz\" * (nombre % 5 == 0)\n",
      "\n",
      "    gauche = gauche_plus + droite_plus\n",
      "\n",
      "    droite = str(nombre)\n",
      "\n",
      "    print(gauche or droite)\n",
      "\n",
      "    # version en une ligne\n",
      "\n",
      "    # print(\"fizz\" * (nombre % 3 == 0) + \"buzz\" * (nombre % 5 == 0) or str(nombre))\n",
      "\n",
      "\n",
      "\n",
      "\n",
      "\n",
      "## Solution 4 avec match / case (python >= 3.10)\n",
      "\n",
      "# for nombre in range(1, 101):\n",
      "\n",
      "#     match (nombre % 3, nombre % 5):\n",
      "\n",
      "#         case (0, 0):\n",
      "\n",
      "#             print(\"fizzbuzz\")\n",
      "\n",
      "#         case (0, _):\n",
      "\n",
      "#             print(\"fizz\")\n",
      "\n",
      "#         case (_, 0):\n",
      "\n",
      "#             print(f\"buzz\")\n",
      "\n",
      "#         case _, _:\n",
      "\n",
      "#             print(nombre)\n",
      "\n"
     ]
    }
   ],
   "source": [
    "f = open(\"./fizzbuzz.py\", encoding=\"utf8\")\n",
    "\n",
    "lines = f.readlines()\n",
    "for line in lines:\n",
    "    \n",
    "    print(line)\n",
    "    # pour enlever les doubles retours chariots, on peut\n",
    "    # * soit dire à print de ne pas en rajouter à la fin de ce qu'il affiche : print(line, end=\"\")\n",
    "    # * soit l'enlever dans la source (sur chaque ligne)\n",
    "    \n",
    "#\n",
    "# for index in range(len(lines)):\n",
    "#    print(lines[index])\n",
    "    \n",
    "f.close()"
   ]
  },
  {
   "cell_type": "code",
   "execution_count": 3,
   "id": "b80f7ad3",
   "metadata": {},
   "outputs": [
    {
     "name": "stdout",
     "output_type": "stream",
     "text": [
      "/home/mfalce/Bureau/pyt_cv_septembre_2022/tape_en_cours\n"
     ]
    }
   ],
   "source": [
    "# savoir d'où est lancé l'interpreteur\n",
    "import os \n",
    "print(os.getcwd())"
   ]
  },
  {
   "cell_type": "markdown",
   "id": "133a1dcc",
   "metadata": {},
   "source": [
    "# Créer une fonction"
   ]
  },
  {
   "cell_type": "code",
   "execution_count": 21,
   "id": "cdf3a3a3",
   "metadata": {},
   "outputs": [
    {
     "name": "stdout",
     "output_type": "stream",
     "text": [
      "Bonjour, je suis Matthieu\n",
      "Bonjour, je suis Joël\n",
      "Bonjour, je suis 3\n"
     ]
    }
   ],
   "source": [
    "# création de la fonction\n",
    "def se_presenter(prenom:str):\n",
    "    return f\"Bonjour, je suis {prenom}\"\n",
    "############################\n",
    "# utilisation de la fonction\n",
    "presentation = se_presenter(\"Matthieu\")\n",
    "print(presentation)\n",
    "\n",
    "presentation = se_presenter(\"Joël\")\n",
    "print(presentation)\n",
    "\n",
    "presentation = se_presenter(3)\n",
    "print(presentation)"
   ]
  },
  {
   "cell_type": "code",
   "execution_count": 33,
   "id": "735cc2b5",
   "metadata": {},
   "outputs": [
    {
     "name": "stdout",
     "output_type": "stream",
     "text": [
      "Help on built-in function strip:\n",
      "\n",
      "strip(chars=None, /) method of builtins.str instance\n",
      "    Return a copy of the string with leading and trailing whitespace removed.\n",
      "    \n",
      "    If chars is given and not None, remove characters in chars instead.\n",
      "\n"
     ]
    }
   ],
   "source": [
    "help(\"\".strip)"
   ]
  },
  {
   "cell_type": "code",
   "execution_count": null,
   "id": "94a3049b",
   "metadata": {},
   "outputs": [],
   "source": []
  }
 ],
 "metadata": {
  "kernelspec": {
   "display_name": "Python 3 (ipykernel)",
   "language": "python",
   "name": "python3"
  },
  "language_info": {
   "codemirror_mode": {
    "name": "ipython",
    "version": 3
   },
   "file_extension": ".py",
   "mimetype": "text/x-python",
   "name": "python",
   "nbconvert_exporter": "python",
   "pygments_lexer": "ipython3",
   "version": "3.9.9"
  }
 },
 "nbformat": 4,
 "nbformat_minor": 5
}
