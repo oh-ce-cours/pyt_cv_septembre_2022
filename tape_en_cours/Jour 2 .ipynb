{
 "cells": [
  {
   "cell_type": "markdown",
   "id": "782c7ceb",
   "metadata": {},
   "source": [
    "# Manipuler un fichier"
   ]
  },
  {
   "cell_type": "code",
   "execution_count": 42,
   "id": "2590a91c",
   "metadata": {},
   "outputs": [
    {
     "name": "stdout",
     "output_type": "stream",
     "text": [
      "## Solution 1\n",
      "# for nombre in range(1, 101):\n",
      "#     if nombre % 5 == 0 and nombre % 3 == 0:\n",
      "#         print(\"fizzbuzz\")\n",
      "#     elif nombre % 3 == 0:\n",
      "#         print(\"fizz\")\n",
      "#     elif nombre % 5 == 0:\n",
      "#         print(\"buzz\")\n",
      "#     else:\n",
      "#         print(nombre)\n",
      "\n",
      "## Solution 2 (sans les elif)\n",
      "# for nombre in range(1, 101):\n",
      "#     resultat = \"\"\n",
      "#     # \"fizzbuzz\" = \"fizz\" + \"buzz\"\n",
      "#     if nombre % 3 == 0:\n",
      "#         resultat = resultat + \"fizz\"\n",
      "#     if nombre % 5 == 0:\n",
      "#         resultat = resultat + \"buzz\"\n",
      "#     if resultat:\n",
      "#         resultat = str(nombre)\n",
      "#     print(resultat)\n",
      "\n",
      "## Solution 3 (sans les if)\n",
      "for nombre in range(1, 101):\n",
      "    gauche_plus = \"fizz\" * (nombre % 3 == 0)\n",
      "    droite_plus = \"buzz\" * (nombre % 5 == 0)\n",
      "    gauche = gauche_plus + droite_plus\n",
      "    droite = str(nombre)\n",
      "    print(gauche or droite)\n",
      "    # version en une ligne\n",
      "    # print(\"fizz\" * (nombre % 3 == 0) + \"buzz\" * (nombre % 5 == 0) or str(nombre))\n",
      "\n",
      "\n",
      "## Solution 4 avec match / case (python >= 3.10)\n",
      "# for nombre in range(1, 101):\n",
      "#     match (nombre % 3, nombre % 5):\n",
      "#         case (0, 0):\n",
      "#             print(\"fizzbuzz\")\n",
      "#         case (0, _):\n",
      "#             print(\"fizz\")\n",
      "#         case (_, 0):\n",
      "#             print(f\"buzz\")\n",
      "#         case _, _:\n",
      "#             print(nombre)\n"
     ]
    }
   ],
   "source": [
    "f = open(\"./fizzbuzz.py\", encoding=\"utf8\")\n",
    "\n",
    "lines = f.readlines()\n",
    "for line in lines:\n",
    "    line = line.rstrip()\n",
    "    # line = line.replace(\"\\n\", \"\")\n",
    "    # line = line[:-1]\n",
    "    print(line)\n",
    "    # pour enlever les doubles retours chariots, on peut\n",
    "    # * soit dire à print de ne pas en rajouter à la fin de ce qu'il affiche : print(line, end=\"\")\n",
    "    # * soit l'enlever dans la source (sur chaque ligne) : rstrip ou replace ou tout sauf le dernier char\n",
    "    \n",
    "#\n",
    "# for index in range(len(lines)):\n",
    "#    print(lines[index])\n",
    "    \n",
    "f.close()"
   ]
  },
  {
   "cell_type": "code",
   "execution_count": 3,
   "id": "9c7693df",
   "metadata": {},
   "outputs": [
    {
     "name": "stdout",
     "output_type": "stream",
     "text": [
      "/home/mfalce/Bureau/pyt_cv_septembre_2022/tape_en_cours\n"
     ]
    }
   ],
   "source": [
    "# savoir d'où est lancé l'interpreteur\n",
    "import os \n",
    "print(os.getcwd())"
   ]
  },
  {
   "cell_type": "markdown",
   "id": "f2f70897",
   "metadata": {},
   "source": [
    "# Créer une fonction"
   ]
  },
  {
   "cell_type": "code",
   "execution_count": 21,
   "id": "2106ba0e",
   "metadata": {},
   "outputs": [
    {
     "name": "stdout",
     "output_type": "stream",
     "text": [
      "Bonjour, je suis Matthieu\n",
      "Bonjour, je suis Joël\n",
      "Bonjour, je suis 3\n"
     ]
    }
   ],
   "source": [
    "# création de la fonction\n",
    "def se_presenter(prenom:str):\n",
    "    return f\"Bonjour, je suis {prenom}\"\n",
    "############################\n",
    "# utilisation de la fonction\n",
    "presentation = se_presenter(\"Matthieu\")\n",
    "print(presentation)\n",
    "\n",
    "presentation = se_presenter(\"Joël\")\n",
    "print(presentation)\n",
    "\n",
    "presentation = se_presenter(3)\n",
    "print(presentation)"
   ]
  },
  {
   "cell_type": "code",
   "execution_count": 36,
   "id": "59fa5d93",
   "metadata": {},
   "outputs": [
    {
     "name": "stdout",
     "output_type": "stream",
     "text": [
      "Help on built-in function lstrip:\n",
      "\n",
      "lstrip(chars=None, /) method of builtins.str instance\n",
      "    Return a copy of the string with leading whitespace removed.\n",
      "    \n",
      "    If chars is given and not None, remove characters in chars instead.\n",
      "\n"
     ]
    }
   ],
   "source": [
    "help(\"\".lstrip)"
   ]
  },
  {
   "cell_type": "code",
   "execution_count": null,
   "id": "406eb49a",
   "metadata": {},
   "outputs": [],
   "source": []
  }
 ],
 "metadata": {
  "kernelspec": {
   "display_name": "Python 3 (ipykernel)",
   "language": "python",
   "name": "python3"
  },
  "language_info": {
   "codemirror_mode": {
    "name": "ipython",
    "version": 3
   },
   "file_extension": ".py",
   "mimetype": "text/x-python",
   "name": "python",
   "nbconvert_exporter": "python",
   "pygments_lexer": "ipython3",
   "version": "3.9.9"
  }
 },
 "nbformat": 4,
 "nbformat_minor": 5
}
