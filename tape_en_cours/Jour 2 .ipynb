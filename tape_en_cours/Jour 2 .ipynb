{
 "cells": [
  {
   "cell_type": "markdown",
   "id": "f55b3f76",
   "metadata": {},
   "source": [
    "# Manipuler un fichier"
   ]
  },
  {
   "cell_type": "code",
   "execution_count": 42,
   "id": "9b7a5278",
   "metadata": {},
   "outputs": [
    {
     "name": "stdout",
     "output_type": "stream",
     "text": [
      "## Solution 1\n",
      "# for nombre in range(1, 101):\n",
      "#     if nombre % 5 == 0 and nombre % 3 == 0:\n",
      "#         print(\"fizzbuzz\")\n",
      "#     elif nombre % 3 == 0:\n",
      "#         print(\"fizz\")\n",
      "#     elif nombre % 5 == 0:\n",
      "#         print(\"buzz\")\n",
      "#     else:\n",
      "#         print(nombre)\n",
      "\n",
      "## Solution 2 (sans les elif)\n",
      "# for nombre in range(1, 101):\n",
      "#     resultat = \"\"\n",
      "#     # \"fizzbuzz\" = \"fizz\" + \"buzz\"\n",
      "#     if nombre % 3 == 0:\n",
      "#         resultat = resultat + \"fizz\"\n",
      "#     if nombre % 5 == 0:\n",
      "#         resultat = resultat + \"buzz\"\n",
      "#     if resultat:\n",
      "#         resultat = str(nombre)\n",
      "#     print(resultat)\n",
      "\n",
      "## Solution 3 (sans les if)\n",
      "for nombre in range(1, 101):\n",
      "    gauche_plus = \"fizz\" * (nombre % 3 == 0)\n",
      "    droite_plus = \"buzz\" * (nombre % 5 == 0)\n",
      "    gauche = gauche_plus + droite_plus\n",
      "    droite = str(nombre)\n",
      "    print(gauche or droite)\n",
      "    # version en une ligne\n",
      "    # print(\"fizz\" * (nombre % 3 == 0) + \"buzz\" * (nombre % 5 == 0) or str(nombre))\n",
      "\n",
      "\n",
      "## Solution 4 avec match / case (python >= 3.10)\n",
      "# for nombre in range(1, 101):\n",
      "#     match (nombre % 3, nombre % 5):\n",
      "#         case (0, 0):\n",
      "#             print(\"fizzbuzz\")\n",
      "#         case (0, _):\n",
      "#             print(\"fizz\")\n",
      "#         case (_, 0):\n",
      "#             print(f\"buzz\")\n",
      "#         case _, _:\n",
      "#             print(nombre)\n"
     ]
    }
   ],
   "source": [
    "f = open(\"./fizzbuzz.py\", encoding=\"utf8\")\n",
    "\n",
    "lines = f.readlines()\n",
    "for line in lines:\n",
    "    line = line.rstrip()\n",
    "    # line = line.replace(\"\\n\", \"\")\n",
    "    # line = line[:-1]\n",
    "    print(line)\n",
    "    # pour enlever les doubles retours chariots, on peut\n",
    "    # * soit dire à print de ne pas en rajouter à la fin de ce qu'il affiche : print(line, end=\"\")\n",
    "    # * soit l'enlever dans la source (sur chaque ligne) : rstrip ou replace ou tout sauf le dernier char\n",
    "    \n",
    "#\n",
    "# for index in range(len(lines)):\n",
    "#    print(lines[index])\n",
    "    \n",
    "f.close()"
   ]
  },
  {
   "cell_type": "code",
   "execution_count": 3,
   "id": "e610c614",
   "metadata": {},
   "outputs": [
    {
     "name": "stdout",
     "output_type": "stream",
     "text": [
      "/home/mfalce/Bureau/pyt_cv_septembre_2022/tape_en_cours\n"
     ]
    }
   ],
   "source": [
    "# savoir d'où est lancé l'interpreteur\n",
    "import os \n",
    "print(os.getcwd())"
   ]
  },
  {
   "cell_type": "markdown",
   "id": "0cd2cba2",
   "metadata": {},
   "source": [
    "# Créer une fonction"
   ]
  },
  {
   "cell_type": "code",
   "execution_count": 21,
   "id": "5be49e2e",
   "metadata": {},
   "outputs": [
    {
     "name": "stdout",
     "output_type": "stream",
     "text": [
      "Bonjour, je suis Matthieu\n",
      "Bonjour, je suis Joël\n",
      "Bonjour, je suis 3\n"
     ]
    }
   ],
   "source": [
    "# création de la fonction\n",
    "def se_presenter(prenom:str):\n",
    "    return f\"Bonjour, je suis {prenom}\"\n",
    "############################\n",
    "# utilisation de la fonction\n",
    "presentation = se_presenter(\"Matthieu\")\n",
    "print(presentation)\n",
    "\n",
    "presentation = se_presenter(\"Joël\")\n",
    "print(presentation)\n",
    "\n",
    "presentation = se_presenter(3)\n",
    "print(presentation)"
   ]
  },
  {
   "cell_type": "code",
   "execution_count": 36,
   "id": "3a7838d3",
   "metadata": {},
   "outputs": [
    {
     "name": "stdout",
     "output_type": "stream",
     "text": [
      "Help on built-in function lstrip:\n",
      "\n",
      "lstrip(chars=None, /) method of builtins.str instance\n",
      "    Return a copy of the string with leading whitespace removed.\n",
      "    \n",
      "    If chars is given and not None, remove characters in chars instead.\n",
      "\n"
     ]
    }
   ],
   "source": [
    "help(\"\".lstrip)"
   ]
  },
  {
   "cell_type": "code",
   "execution_count": 43,
   "id": "bd32cf62",
   "metadata": {},
   "outputs": [
    {
     "name": "stdout",
     "output_type": "stream",
     "text": [
      "Help on built-in function readlines:\n",
      "\n",
      "readlines(hint=-1, /) method of _io.TextIOWrapper instance\n",
      "    Return a list of lines from the stream.\n",
      "    \n",
      "    hint can be specified to control the number of lines read: no more\n",
      "    lines will be read if the total size (in bytes/characters) of all\n",
      "    lines so far exceeds hint.\n",
      "\n"
     ]
    }
   ],
   "source": [
    "help(f.readlines)"
   ]
  },
  {
   "cell_type": "code",
   "execution_count": 54,
   "id": "edb7aa90",
   "metadata": {},
   "outputs": [
    {
     "data": {
      "text/plain": [
       "['a', 'b', 'c', 'd', 'e']"
      ]
     },
     "execution_count": 54,
     "metadata": {},
     "output_type": "execute_result"
    }
   ],
   "source": [
    "lines = [\"a\", \"b\", \"c\", \"d\", \"e\", \"f\"]\n",
    "lines[:5]"
   ]
  },
  {
   "cell_type": "code",
   "execution_count": 52,
   "id": "897a8ee9",
   "metadata": {},
   "outputs": [
    {
     "data": {
      "text/plain": [
       "['e', 'f']"
      ]
     },
     "execution_count": 52,
     "metadata": {},
     "output_type": "execute_result"
    }
   ],
   "source": [
    "lines = [\"a\", \"b\", \"c\", \"d\", \"e\", \"f\"]\n",
    "lines[-2:]"
   ]
  },
  {
   "cell_type": "code",
   "execution_count": 55,
   "id": "2b72b9ae",
   "metadata": {},
   "outputs": [
    {
     "name": "stdout",
     "output_type": "stream",
     "text": [
      "Help on built-in function print in module builtins:\n",
      "\n",
      "print(...)\n",
      "    print(value, ..., sep=' ', end='\\n', file=sys.stdout, flush=False)\n",
      "    \n",
      "    Prints the values to a stream, or to sys.stdout by default.\n",
      "    Optional keyword arguments:\n",
      "    file:  a file-like object (stream); defaults to the current sys.stdout.\n",
      "    sep:   string inserted between values, default a space.\n",
      "    end:   string appended after the last value, default a newline.\n",
      "    flush: whether to forcibly flush the stream.\n",
      "\n"
     ]
    }
   ],
   "source": [
    "help(print)"
   ]
  },
  {
   "cell_type": "code",
   "execution_count": 78,
   "id": "f3679b59",
   "metadata": {},
   "outputs": [
    {
     "name": "stdout",
     "output_type": "stream",
     "text": [
      "3\n"
     ]
    }
   ],
   "source": [
    "def inutile(a, b=3, c=5):\n",
    "    print(a + b + c)\n",
    "\n",
    "inutile(1, 1, c=1)"
   ]
  },
  {
   "cell_type": "code",
   "execution_count": 98,
   "id": "1404fc57",
   "metadata": {},
   "outputs": [
    {
     "data": {
      "text/plain": [
       "True"
      ]
     },
     "execution_count": 98,
     "metadata": {},
     "output_type": "execute_result"
    }
   ],
   "source": [
    "a = range(0, 1000000000000000000000000000000000000000, 34342)\n",
    "34342*133244 in a "
   ]
  },
  {
   "cell_type": "code",
   "execution_count": 83,
   "id": "d40650a2",
   "metadata": {},
   "outputs": [
    {
     "name": "stdout",
     "output_type": "stream",
     "text": [
      "0\n",
      "1\n",
      "2\n",
      "3\n",
      "4\n",
      "5\n",
      "6\n",
      "7\n",
      "8\n",
      "9\n",
      "10\n"
     ]
    }
   ],
   "source": [
    "res = 0\n",
    "for i in a:\n",
    "    print(i)\n",
    "    res += 1\n",
    "    if res > 10:\n",
    "        break"
   ]
  },
  {
   "cell_type": "code",
   "execution_count": 89,
   "id": "dc2b6b3f",
   "metadata": {},
   "outputs": [
    {
     "name": "stdout",
     "output_type": "stream",
     "text": [
      "Help on class range in module builtins:\n",
      "\n",
      "class range(object)\n",
      " |  range(stop) -> range object\n",
      " |  range(start, stop[, step]) -> range object\n",
      " |  \n",
      " |  Return an object that produces a sequence of integers from start (inclusive)\n",
      " |  to stop (exclusive) by step.  range(i, j) produces i, i+1, i+2, ..., j-1.\n",
      " |  start defaults to 0, and stop is omitted!  range(4) produces 0, 1, 2, 3.\n",
      " |  These are exactly the valid indices for a list of 4 elements.\n",
      " |  When step is given, it specifies the increment (or decrement).\n",
      " |  \n",
      " |  Methods defined here:\n",
      " |  \n",
      " |  __bool__(self, /)\n",
      " |      self != 0\n",
      " |  \n",
      " |  __contains__(self, key, /)\n",
      " |      Return key in self.\n",
      " |  \n",
      " |  __eq__(self, value, /)\n",
      " |      Return self==value.\n",
      " |  \n",
      " |  __ge__(self, value, /)\n",
      " |      Return self>=value.\n",
      " |  \n",
      " |  __getattribute__(self, name, /)\n",
      " |      Return getattr(self, name).\n",
      " |  \n",
      " |  __getitem__(self, key, /)\n",
      " |      Return self[key].\n",
      " |  \n",
      " |  __gt__(self, value, /)\n",
      " |      Return self>value.\n",
      " |  \n",
      " |  __hash__(self, /)\n",
      " |      Return hash(self).\n",
      " |  \n",
      " |  __iter__(self, /)\n",
      " |      Implement iter(self).\n",
      " |  \n",
      " |  __le__(self, value, /)\n",
      " |      Return self<=value.\n",
      " |  \n",
      " |  __len__(self, /)\n",
      " |      Return len(self).\n",
      " |  \n",
      " |  __lt__(self, value, /)\n",
      " |      Return self<value.\n",
      " |  \n",
      " |  __ne__(self, value, /)\n",
      " |      Return self!=value.\n",
      " |  \n",
      " |  __reduce__(...)\n",
      " |      Helper for pickle.\n",
      " |  \n",
      " |  __repr__(self, /)\n",
      " |      Return repr(self).\n",
      " |  \n",
      " |  __reversed__(...)\n",
      " |      Return a reverse iterator.\n",
      " |  \n",
      " |  count(...)\n",
      " |      rangeobject.count(value) -> integer -- return number of occurrences of value\n",
      " |  \n",
      " |  index(...)\n",
      " |      rangeobject.index(value) -> integer -- return index of value.\n",
      " |      Raise ValueError if the value is not present.\n",
      " |  \n",
      " |  ----------------------------------------------------------------------\n",
      " |  Static methods defined here:\n",
      " |  \n",
      " |  __new__(*args, **kwargs) from builtins.type\n",
      " |      Create and return a new object.  See help(type) for accurate signature.\n",
      " |  \n",
      " |  ----------------------------------------------------------------------\n",
      " |  Data descriptors defined here:\n",
      " |  \n",
      " |  start\n",
      " |  \n",
      " |  step\n",
      " |  \n",
      " |  stop\n",
      "\n"
     ]
    }
   ],
   "source": [
    "help(range)"
   ]
  },
  {
   "cell_type": "code",
   "execution_count": 94,
   "id": "43a3291b",
   "metadata": {},
   "outputs": [
    {
     "data": {
      "text/plain": [
       "False"
      ]
     },
     "execution_count": 94,
     "metadata": {},
     "output_type": "execute_result"
    }
   ],
   "source": [
    "[\n",
    "    (\"Matthieu\", \"Falce\", \"MFC\"),\n",
    "    (\"Blanche\", \"Mallet\", \"ESRI\"), \n",
    "]"
   ]
  },
  {
   "cell_type": "code",
   "execution_count": 109,
   "id": "9b41708b",
   "metadata": {},
   "outputs": [
    {
     "name": "stdout",
     "output_type": "stream",
     "text": [
      "1\n",
      "2\n",
      "3\n",
      "4\n",
      "['loulou', 'riri', 'fifi']\n",
      "1\n",
      "2\n",
      "3\n",
      "4\n",
      "loulou\n",
      "riri\n",
      "fifi\n"
     ]
    }
   ],
   "source": [
    "def castor_juniors_list():\n",
    "    ma_liste = []\n",
    "    print(1)\n",
    "    ma_liste.append(\"riri\")\n",
    "    print(2)\n",
    "    ma_liste.append(\"fifi\")\n",
    "    print(3)\n",
    "    ma_liste.insert(0, \"loulou\")\n",
    "    print(4)\n",
    "    return ma_liste\n",
    "\n",
    "print(castor_juniors_list())\n",
    "for castor_junior in castor_juniors_list():\n",
    "    print(castor_junior)"
   ]
  },
  {
   "cell_type": "code",
   "execution_count": 108,
   "id": "5ea9cdf9",
   "metadata": {},
   "outputs": [
    {
     "name": "stdout",
     "output_type": "stream",
     "text": [
      "<generator object castor_juniors_generator at 0x7fad1e7ffdd0>\n",
      "1\n",
      "riri\n",
      "2\n",
      "fifi\n",
      "3\n",
      "loulou\n",
      "4\n"
     ]
    }
   ],
   "source": [
    "def castor_juniors_generator():\n",
    "    print(1)\n",
    "    yield \"riri\"\n",
    "    print(2)\n",
    "    yield \"fifi\"\n",
    "    print(3)\n",
    "    yield \"loulou\"\n",
    "    print(4)\n",
    "\n",
    "print(castor_juniors_generator())\n",
    "for castor_junior in castor_juniors_generator():\n",
    "    print(castor_junior)"
   ]
  },
  {
   "cell_type": "code",
   "execution_count": null,
   "id": "5d5131e8",
   "metadata": {},
   "outputs": [],
   "source": []
  }
 ],
 "metadata": {
  "kernelspec": {
   "display_name": "Python 3 (ipykernel)",
   "language": "python",
   "name": "python3"
  },
  "language_info": {
   "codemirror_mode": {
    "name": "ipython",
    "version": 3
   },
   "file_extension": ".py",
   "mimetype": "text/x-python",
   "name": "python",
   "nbconvert_exporter": "python",
   "pygments_lexer": "ipython3",
   "version": "3.9.9"
  }
 },
 "nbformat": 4,
 "nbformat_minor": 5
}
