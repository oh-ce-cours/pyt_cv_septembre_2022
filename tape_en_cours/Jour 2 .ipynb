{
 "cells": [
  {
   "cell_type": "markdown",
   "id": "4b986867",
   "metadata": {},
   "source": [
    "# Manipuler un fichier"
   ]
  },
  {
   "cell_type": "code",
   "execution_count": 26,
   "id": "998a7aa4",
   "metadata": {},
   "outputs": [
    {
     "name": "stdout",
     "output_type": "stream",
     "text": [
      "a\n",
      "b\n",
      "c\n"
     ]
    }
   ],
   "source": [
    "f = open(\"./fizzbuzz.py\", encoding=\"utf8\")\n",
    "\n",
    "lines = [\"a\", \"b\", \"c\"]\n",
    "for line in lines:\n",
    "    print(line)\n",
    "    \n",
    "#\n",
    "for index in range(len(lines)):\n",
    "    print(lines[index])\n",
    "    \n",
    "f.close()"
   ]
  },
  {
   "cell_type": "code",
   "execution_count": 3,
   "id": "cdcb8dc0",
   "metadata": {},
   "outputs": [
    {
     "name": "stdout",
     "output_type": "stream",
     "text": [
      "/home/mfalce/Bureau/pyt_cv_septembre_2022/tape_en_cours\n"
     ]
    }
   ],
   "source": [
    "# savoir d'où est lancé l'interpreteur\n",
    "import os \n",
    "print(os.getcwd())"
   ]
  },
  {
   "cell_type": "markdown",
   "id": "616d8a69",
   "metadata": {},
   "source": [
    "# Créer une fonction"
   ]
  },
  {
   "cell_type": "code",
   "execution_count": 21,
   "id": "e79641f2",
   "metadata": {},
   "outputs": [
    {
     "name": "stdout",
     "output_type": "stream",
     "text": [
      "Bonjour, je suis Matthieu\n",
      "Bonjour, je suis Joël\n",
      "Bonjour, je suis 3\n"
     ]
    }
   ],
   "source": [
    "# création de la fonction\n",
    "def se_presenter(prenom:str):\n",
    "    return f\"Bonjour, je suis {prenom}\"\n",
    "############################\n",
    "# utilisation de la fonction\n",
    "presentation = se_presenter(\"Matthieu\")\n",
    "print(presentation)\n",
    "\n",
    "presentation = se_presenter(\"Joël\")\n",
    "print(presentation)\n",
    "\n",
    "presentation = se_presenter(3)\n",
    "print(presentation)"
   ]
  },
  {
   "cell_type": "code",
   "execution_count": null,
   "id": "6d1d5738",
   "metadata": {},
   "outputs": [],
   "source": []
  }
 ],
 "metadata": {
  "kernelspec": {
   "display_name": "Python 3 (ipykernel)",
   "language": "python",
   "name": "python3"
  },
  "language_info": {
   "codemirror_mode": {
    "name": "ipython",
    "version": 3
   },
   "file_extension": ".py",
   "mimetype": "text/x-python",
   "name": "python",
   "nbconvert_exporter": "python",
   "pygments_lexer": "ipython3",
   "version": "3.9.9"
  }
 },
 "nbformat": 4,
 "nbformat_minor": 5
}
