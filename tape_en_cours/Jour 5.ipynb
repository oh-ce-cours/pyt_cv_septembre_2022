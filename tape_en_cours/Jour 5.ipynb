{
 "cells": [
  {
   "cell_type": "code",
   "execution_count": 5,
   "id": "8595dda6",
   "metadata": {},
   "outputs": [],
   "source": [
    "class AccesAttributs:\n",
    "    def __init__(self):\n",
    "        self.attribut1 = 1\n",
    "        self._attribut2 = 2\n",
    "        self.__attribut3 = 3\n",
    "        \n",
    "a = AccesAttributs()"
   ]
  },
  {
   "cell_type": "code",
   "execution_count": 6,
   "id": "025a3527",
   "metadata": {},
   "outputs": [
    {
     "name": "stdout",
     "output_type": "stream",
     "text": [
      "1\n",
      "changé\n"
     ]
    }
   ],
   "source": [
    "print(a.attribut1)\n",
    "a.attribut1 = \"changé\"\n",
    "print(a.attribut1)"
   ]
  },
  {
   "cell_type": "code",
   "execution_count": 7,
   "id": "9757a410",
   "metadata": {},
   "outputs": [
    {
     "name": "stdout",
     "output_type": "stream",
     "text": [
      "2\n"
     ]
    }
   ],
   "source": [
    "print(a._attribut2)\n",
    "a._attribut2 = \"changé\"\n",
    "print(a._attribut2)"
   ]
  },
  {
   "cell_type": "code",
   "execution_count": null,
   "id": "46422110",
   "metadata": {},
   "outputs": [],
   "source": []
  }
 ],
 "metadata": {
  "kernelspec": {
   "display_name": "Python 3 (ipykernel)",
   "language": "python",
   "name": "python3"
  },
  "language_info": {
   "codemirror_mode": {
    "name": "ipython",
    "version": 3
   },
   "file_extension": ".py",
   "mimetype": "text/x-python",
   "name": "python",
   "nbconvert_exporter": "python",
   "pygments_lexer": "ipython3",
   "version": "3.9.9"
  }
 },
 "nbformat": 4,
 "nbformat_minor": 5
}
