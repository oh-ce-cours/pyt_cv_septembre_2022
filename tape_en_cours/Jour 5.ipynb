{
 "cells": [
  {
   "cell_type": "code",
   "execution_count": 19,
   "id": "736dd506",
   "metadata": {},
   "outputs": [],
   "source": [
    "class AccesAttributs:\n",
    "    def __init__(self):\n",
    "        self.attribut1 = 1\n",
    "        self._attribut2 = 2\n",
    "        self.__attribut3 = 3\n",
    "    \n",
    "    def print_attribut1(self):\n",
    "        print(self.attribut1)\n",
    "\n",
    "    def print_attribut2(self):\n",
    "        print(self._attribut2)\n",
    "\n",
    "    def print_attribut3(self):\n",
    "        print(self.__attribut3)\n",
    "\n",
    "        \n",
    "a = AccesAttributs()"
   ]
  },
  {
   "cell_type": "code",
   "execution_count": 20,
   "id": "9032be88",
   "metadata": {},
   "outputs": [
    {
     "name": "stdout",
     "output_type": "stream",
     "text": [
      "1\n",
      "changé\n"
     ]
    }
   ],
   "source": [
    "a.print_attribut1()\n",
    "a.attribut1 = \"changé\"\n",
    "print(a.attribut1)"
   ]
  },
  {
   "cell_type": "code",
   "execution_count": 21,
   "id": "48b3c8c6",
   "metadata": {},
   "outputs": [
    {
     "name": "stdout",
     "output_type": "stream",
     "text": [
      "2\n",
      "changé\n"
     ]
    }
   ],
   "source": [
    "a.print_attribut2()\n",
    "a._attribut2 = \"changé\"\n",
    "print(a._attribut2)"
   ]
  },
  {
   "cell_type": "code",
   "execution_count": 10,
   "id": "e84035d5",
   "metadata": {},
   "outputs": [
    {
     "ename": "AttributeError",
     "evalue": "'AccesAttributs' object has no attribute '__attribut3'",
     "output_type": "error",
     "traceback": [
      "\u001b[0;31m---------------------------------------------------------------------------\u001b[0m",
      "\u001b[0;31mAttributeError\u001b[0m                            Traceback (most recent call last)",
      "Cell \u001b[0;32mIn [10], line 1\u001b[0m\n\u001b[0;32m----> 1\u001b[0m \u001b[38;5;28mprint\u001b[39m(a\u001b[38;5;241m.\u001b[39m__attribut3)\n",
      "\u001b[0;31mAttributeError\u001b[0m: 'AccesAttributs' object has no attribute '__attribut3'"
     ]
    }
   ],
   "source": [
    "print(a.__attribut3)"
   ]
  },
  {
   "cell_type": "code",
   "execution_count": null,
   "id": "192fefb6",
   "metadata": {},
   "outputs": [],
   "source": []
  }
 ],
 "metadata": {
  "kernelspec": {
   "display_name": "Python 3 (ipykernel)",
   "language": "python",
   "name": "python3"
  },
  "language_info": {
   "codemirror_mode": {
    "name": "ipython",
    "version": 3
   },
   "file_extension": ".py",
   "mimetype": "text/x-python",
   "name": "python",
   "nbconvert_exporter": "python",
   "pygments_lexer": "ipython3",
   "version": "3.9.9"
  }
 },
 "nbformat": 4,
 "nbformat_minor": 5
}
