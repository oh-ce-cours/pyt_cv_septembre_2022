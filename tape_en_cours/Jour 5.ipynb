{
 "cells": [
  {
   "cell_type": "code",
   "execution_count": 19,
   "id": "6f39b460",
   "metadata": {},
   "outputs": [],
   "source": [
    "class AccesAttributs:\n",
    "    def __init__(self):\n",
    "        self.attribut1 = 1\n",
    "        self._attribut2 = 2\n",
    "        self.__attribut3 = 3\n",
    "    \n",
    "    def print_attribut1(self):\n",
    "        print(self.attribut1)\n",
    "\n",
    "    def print_attribut2(self):\n",
    "        print(self._attribut2)\n",
    "\n",
    "    def print_attribut3(self):\n",
    "        print(self.__attribut3)\n",
    "\n",
    "        \n",
    "a = AccesAttributs()"
   ]
  },
  {
   "cell_type": "code",
   "execution_count": 20,
   "id": "225d9bcb",
   "metadata": {},
   "outputs": [
    {
     "name": "stdout",
     "output_type": "stream",
     "text": [
      "1\n",
      "changé\n"
     ]
    }
   ],
   "source": [
    "a.print_attribut1()\n",
    "a.attribut1 = \"changé\"\n",
    "print(a.attribut1)"
   ]
  },
  {
   "cell_type": "code",
   "execution_count": 21,
   "id": "ce3766bf",
   "metadata": {},
   "outputs": [
    {
     "name": "stdout",
     "output_type": "stream",
     "text": [
      "2\n",
      "changé\n"
     ]
    }
   ],
   "source": [
    "a.print_attribut2()\n",
    "a._attribut2 = \"changé\"\n",
    "print(a._attribut2)"
   ]
  },
  {
   "cell_type": "code",
   "execution_count": 26,
   "id": "57c40f46",
   "metadata": {},
   "outputs": [
    {
     "name": "stdout",
     "output_type": "stream",
     "text": [
      "3\n"
     ]
    },
    {
     "ename": "AttributeError",
     "evalue": "'AccesAttributs' object has no attribute '__attribut3'",
     "output_type": "error",
     "traceback": [
      "\u001b[0;31m---------------------------------------------------------------------------\u001b[0m",
      "\u001b[0;31mAttributeError\u001b[0m                            Traceback (most recent call last)",
      "Cell \u001b[0;32mIn [26], line 2\u001b[0m\n\u001b[1;32m      1\u001b[0m a\u001b[38;5;241m.\u001b[39mprint_attribut3()\n\u001b[0;32m----> 2\u001b[0m \u001b[38;5;28mprint\u001b[39m(a\u001b[38;5;241m.\u001b[39m__attribut3)\n",
      "\u001b[0;31mAttributeError\u001b[0m: 'AccesAttributs' object has no attribute '__attribut3'"
     ]
    }
   ],
   "source": [
    "a.print_attribut3()\n",
    "print(a.__attribut3)"
   ]
  },
  {
   "cell_type": "code",
   "execution_count": 24,
   "id": "af5eca7c",
   "metadata": {},
   "outputs": [
    {
     "data": {
      "text/plain": [
       "{'attribut1': 'changé',\n",
       " '_attribut2': 'changé',\n",
       " '_AccesAttributs__attribut3': 3}"
      ]
     },
     "execution_count": 24,
     "metadata": {},
     "output_type": "execute_result"
    }
   ],
   "source": [
    "vars(a)"
   ]
  },
  {
   "cell_type": "markdown",
   "id": "e06f0d2e",
   "metadata": {},
   "source": [
    "Si vous voulez protéger l'accès à des attributs de vos objets, en python vous pouvez :\n",
    "\n",
    "    * préfixer avec `_` => convention indiquant qu'il est privé \n",
    "    * préfixer avec `__` => rend l'accès plus compliqué (uniquement depuis l'extérieur de la classe), mais la modification est toujours possible\n",
    "    * appeler des méthodes quand vous croyez manipuler un attribut => les propriétés (`properties`) plus d'infos ici : https://realpython.com/python-property/"
   ]
  },
  {
   "cell_type": "code",
   "execution_count": 27,
   "id": "05ba1dab",
   "metadata": {},
   "outputs": [
    {
     "ename": "TypeError",
     "evalue": "unsupported operand type(s) for /: 'str' and 'str'",
     "output_type": "error",
     "traceback": [
      "\u001b[0;31m---------------------------------------------------------------------------\u001b[0m",
      "\u001b[0;31mTypeError\u001b[0m                                 Traceback (most recent call last)",
      "Cell \u001b[0;32mIn [27], line 1\u001b[0m\n\u001b[0;32m----> 1\u001b[0m \u001b[38;5;124m\"\u001b[39m\u001b[38;5;124mtoto\u001b[39m\u001b[38;5;124m\"\u001b[39m \u001b[38;5;241m/\u001b[39m \u001b[38;5;124m\"\u001b[39m\u001b[38;5;124mtata\u001b[39m\u001b[38;5;124m\"\u001b[39m\n",
      "\u001b[0;31mTypeError\u001b[0m: unsupported operand type(s) for /: 'str' and 'str'"
     ]
    }
   ],
   "source": [
    "\"toto\" / \"tata\""
   ]
  },
  {
   "cell_type": "code",
   "execution_count": null,
   "id": "75f879c2",
   "metadata": {},
   "outputs": [],
   "source": []
  }
 ],
 "metadata": {
  "kernelspec": {
   "display_name": "Python 3 (ipykernel)",
   "language": "python",
   "name": "python3"
  },
  "language_info": {
   "codemirror_mode": {
    "name": "ipython",
    "version": 3
   },
   "file_extension": ".py",
   "mimetype": "text/x-python",
   "name": "python",
   "nbconvert_exporter": "python",
   "pygments_lexer": "ipython3",
   "version": "3.9.9"
  }
 },
 "nbformat": 4,
 "nbformat_minor": 5
}
